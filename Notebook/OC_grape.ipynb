{
 "cells": [
  {
   "cell_type": "code",
   "execution_count": null,
   "metadata": {},
   "outputs": [],
   "source": [
    "using KomaMRI, MAT, Plots, FFTW"
   ]
  },
  {
   "attachments": {},
   "cell_type": "markdown",
   "metadata": {},
   "source": [
    "# Optimized shaped pulse\n",
    "\n",
    "## Imported from Matlab"
   ]
  },
  {
   "cell_type": "code",
   "execution_count": null,
   "metadata": {},
   "outputs": [],
   "source": [
    "# SEQUENCE\n",
    "# Function for creating a shaped pulse\n",
    "# Import shaped pulse\n",
    "RF_Hz = matread(\"/Users/amandanicotina/Documents/Julia/Projects/KomaMRIScripts/OC_fields/oc_field.mat\")[\"b1\"];\n",
    "t_sp = matread(\"/Users/amandanicotina/Documents/Julia/Projects/KomaMRIScripts/OC_fields/oc_field.mat\")[\"t_s\"];\n",
    "RF_T = (RF_Hz)/(2π*γ)\n",
    "# 1st block -> RF block\n",
    "exc = RF(RF_T', t_sp);"
   ]
  },
  {
   "cell_type": "code",
   "execution_count": null,
   "metadata": {},
   "outputs": [],
   "source": [
    "# 2nd block -> ADC block\n",
    "nADC = 1 ;\n",
    "durADC = 1e-3 ;\n",
    "#delay = 1e-3 ;\n",
    "aqc = ADC(nADC, durADC)"
   ]
  },
  {
   "cell_type": "code",
   "execution_count": null,
   "metadata": {},
   "outputs": [],
   "source": [
    "# concatenating the two blocks\n",
    "seq  = Sequence()\n",
    "seq += exc\n",
    "seq += aqc\n",
    "\n",
    "# plot sequence\n",
    "p1 = plot_seq(seq; slider = false, height = 300, max_rf_samples=Inf)"
   ]
  },
  {
   "cell_type": "code",
   "execution_count": null,
   "metadata": {},
   "outputs": [],
   "source": [
    "# PHANTOM #\n",
    "obj = Phantom{Float64}(name = \"spin1\", x = [0.], T1 = [138e-3], T2 = [118e-3])"
   ]
  },
  {
   "cell_type": "code",
   "execution_count": null,
   "metadata": {},
   "outputs": [],
   "source": [
    "# SIMULATE #\n",
    "signal = simulate(obj, seq, sys; simParams=Dict{String,Any}(\"return_type\"=>\"state\"));\n",
    "p2 = plot_signal(raw; slider = false, height = 300);"
   ]
  }
 ],
 "metadata": {
  "kernelspec": {
   "display_name": "Julia 1.8.5",
   "language": "julia",
   "name": "julia-1.8"
  },
  "language_info": {
   "file_extension": ".jl",
   "mimetype": "application/julia",
   "name": "julia",
   "version": "1.8.5"
  },
  "orig_nbformat": 4
 },
 "nbformat": 4,
 "nbformat_minor": 2
}
