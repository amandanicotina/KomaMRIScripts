{
 "cells": [
  {
   "cell_type": "code",
   "execution_count": null,
   "metadata": {},
   "outputs": [],
   "source": [
    "using KomaMRI, MAT, Plots, WebIO"
   ]
  },
  {
   "attachments": {},
   "cell_type": "markdown",
   "metadata": {},
   "source": [
    "## Implementation Optimized Shaped Pulse"
   ]
  },
  {
   "attachments": {},
   "cell_type": "markdown",
   "metadata": {},
   "source": [
    "- Sample A: T1 = 100ms, T2 = 50ms \n",
    "- Sample B: T1 = 50ms, T2 = 25ms"
   ]
  },
  {
   "attachments": {},
   "cell_type": "markdown",
   "metadata": {},
   "source": [
    "### Scanner"
   ]
  },
  {
   "cell_type": "code",
   "execution_count": null,
   "metadata": {},
   "outputs": [],
   "source": [
    "sys = Scanner();"
   ]
  },
  {
   "attachments": {},
   "cell_type": "markdown",
   "metadata": {},
   "source": [
    "**Scanner**\n",
    "\n",
    "- B0 =     1.5 [T] - main magnetic field\n",
    "- B1 =    1.0e-5 [T] - maximum RF amplitude\n",
    "- Gmax =   0.06 [T/m] - maximum gradient\n",
    "- Smax =   500 [mT/m/ms] - maximum slew-rate\n",
    "- ADC_Δt = 2.0e-6 [s] - ADC raster time\n",
    "- seq_Δt = 1.0e-5 [s] - sequence-block raster time\n",
    "- GR_Δt =  1.0e-5 [s] - gradient raster time\n",
    "- RF_Δt =  1.0e-6 [s] - RF raster time\n",
    "- RF_ring_down_T = 2.0e-5 [s] - RF ring down time\n",
    "- RF_dead_time_T = 0.0001 [s] - RF dead time\n",
    "- ADC_dead_time_T = 1.0e-5 [s] - ADC dead time"
   ]
  },
  {
   "attachments": {},
   "cell_type": "markdown",
   "metadata": {},
   "source": [
    "### Sequence"
   ]
  },
  {
   "cell_type": "code",
   "execution_count": null,
   "metadata": {},
   "outputs": [],
   "source": [
    "# Importing MATLAB data\n",
    "file = open(\"oc_field.mat\", \"r\")\n",
    "\n",
    "## Optimized field in Hz\n",
    "RF_Hz = matread(\"oc_field.mat\")[\"b1\"];\n",
    "\n",
    "# Final time and time array in seconds\n",
    "tf_sp = matread(\"oc_field.mat\")[\"tf_s\"];\n",
    "t_sp  = matread(\"oc_field.mat\")[\"t_s\"];\n",
    "\n",
    "Mmax  = matread(\"oc_field.mat\")[\"Mmax\"];\n",
    "Mmin  = matread(\"oc_field.mat\")[\"Mmin\"];"
   ]
  },
  {
   "cell_type": "code",
   "execution_count": null,
   "metadata": {},
   "outputs": [],
   "source": [
    "# SEQUENCE\n",
    "# convert to Tesla\n",
    "RF_T = RF_Hz/γ;\n",
    "\n",
    "# 1st block -> RF block\n",
    "exc = RF(RF_T', tf_sp);\n",
    "\n",
    "# 2nd block -> ADC block\n",
    "nADC = 1 ;\n",
    "durADC = 1e-3 ;\n",
    "#delay = 1e-3 ;\n",
    "aqc = ADC(nADC, durADC);\n",
    "\n",
    "# concatenating the two blocks\n",
    "seq  = Sequence();\n",
    "seq += exc;\n",
    "seq += aqc;"
   ]
  },
  {
   "cell_type": "code",
   "execution_count": null,
   "metadata": {},
   "outputs": [],
   "source": [
    "# plot\n",
    "p1 = plot_seq(seq; slider = false, height = 300, max_rf_samples=Inf)"
   ]
  },
  {
   "attachments": {},
   "cell_type": "markdown",
   "metadata": {},
   "source": [
    "### Phantom"
   ]
  },
  {
   "cell_type": "code",
   "execution_count": null,
   "metadata": {},
   "outputs": [],
   "source": [
    "obj = Phantom{Float64}(name = \"spin1\", x = [0.], T1 = [274e-3], T2 = [237e-3], Δw = [2π*7450]);"
   ]
  },
  {
   "attachments": {},
   "cell_type": "markdown",
   "metadata": {},
   "source": [
    "### Simulate"
   ]
  },
  {
   "attachments": {},
   "cell_type": "markdown",
   "metadata": {},
   "source": [
    "#### Signal"
   ]
  },
  {
   "cell_type": "code",
   "execution_count": null,
   "metadata": {},
   "outputs": [],
   "source": [
    "    # SIMULATE #\n",
    "    signal = simulate(obj, seq, sys; simParams=Dict{String,Any}(\"return_type\"=>\"state\"));"
   ]
  },
  {
   "attachments": {},
   "cell_type": "markdown",
   "metadata": {},
   "source": [
    "#### Signal to magnetization"
   ]
  },
  {
   "cell_type": "code",
   "execution_count": null,
   "metadata": {},
   "outputs": [],
   "source": [
    "Mx = real(signal.xy)[];\n",
    "My = imag(signal.xy)[];\n",
    "Mz = signal.z[];\n",
    "sig = \"max\""
   ]
  },
  {
   "attachments": {},
   "cell_type": "markdown",
   "metadata": {},
   "source": [
    "#### Calculating the fidelity"
   ]
  },
  {
   "cell_type": "code",
   "execution_count": null,
   "metadata": {},
   "outputs": [],
   "source": [
    "# Fidelity\n",
    "if sig == \"max\"\n",
    "    Mxmax = Mmax[2, end]\n",
    "    Mymax = Mmax[3, end]\n",
    "    Mzmax = Mmax[4, end]\n",
    "    fidelity_Mx = round(abs(Mx - Mxmax)*100, digits = 2)\n",
    "    fidelity_My = round(abs(My - Mymax)*100, digits = 2)\n",
    "    fidelity_Mz = round(abs(Mz - Mzmax)*100, digits = 2)\n",
    "else \n",
    "    Mxmin = Mmin[2, end]\n",
    "    Mymin = Mmin[3, end]\n",
    "    Mzmin = Mmin[4, end]\n",
    "    fidelity_Mx = round(abs(Mx - Mxmin)*100, digits = 2)\n",
    "    fidelity_My = round(abs(My - Mymin)*100, digits = 2)\n",
    "    fidelity_Mz = round(abs(Mz - Mzmin)*100, digits = 2)\n",
    "end"
   ]
  },
  {
   "cell_type": "code",
   "execution_count": null,
   "metadata": {},
   "outputs": [],
   "source": [
    "println(\"Fidelity: Mx = $fidelity_Mx%, My = $fidelity_My%, Mz = $fidelity_Mz%\")"
   ]
  },
  {
   "attachments": {},
   "cell_type": "markdown",
   "metadata": {},
   "source": [
    "### Magnetization dynamics"
   ]
  },
  {
   "cell_type": "code",
   "execution_count": null,
   "metadata": {},
   "outputs": [],
   "source": [
    "pieces = 10;\n",
    "M_koma = zeros(Float64, 3, pieces);\n",
    "t_koma = zeros(1, pieces);\n",
    "for i in 1:pieces\n",
    "    blocks = Int(length(RF_T)/pieces);\n",
    "    rf = RF_T[1, 1:i*blocks] ;\n",
    "    t_block = t_sp[1, i*blocks];\n",
    "\n",
    "    #1st block -> RF block\n",
    "    exc = RF(rf, t_block);\n",
    "    \n",
    "    # 2nd block -> ADC block\n",
    "    nADC = 1 ;\n",
    "    durADC = 1e-3 ;\n",
    "    #delay = 1e-3 ;\n",
    "    aqc = ADC(nADC, durADC)\n",
    "    \n",
    "    # concatenating the two blocks\n",
    "    seq1  = Sequence();\n",
    "    seq1 += exc;\n",
    "    seq1 += aqc;\n",
    "    #p1 = plot_seq(seq1; slider = false, height = 300, max_rf_samples=Inf)\n",
    "\n",
    "    # PHANTOM #\n",
    "    #obj1 = Phantom{Float64}(name = \"spin1\", x = [0.], T1 = [100e-3], T2 = [50e-3], Δw = [2π*10]);\n",
    "\n",
    "    # SIMULATE #\n",
    "    signal1 = simulate(obj, seq1, sys; simParams=Dict{String,Any}(\"return_type\"=>\"state\"));\n",
    "\n",
    "    # Magnetization\n",
    "    M_koma[1, i] = real(signal1.xy)[];\n",
    "    M_koma[2, i] = imag(signal1.xy)[];\n",
    "    M_koma[3, i] = signal1.z[];\n",
    "\n",
    "    # Time\n",
    "    t_koma[1, i] = t_block;\n",
    "end"
   ]
  },
  {
   "cell_type": "code",
   "execution_count": null,
   "metadata": {},
   "outputs": [],
   "source": [
    "# Magnetization values\n",
    "My_koma = M_koma[2,:]';\n",
    "Mz_koma = M_koma[3,:]';\n",
    "\n",
    "t_evol = LinRange(0.0, tf_sp, Int(length(RF_T)+1));"
   ]
  },
  {
   "attachments": {},
   "cell_type": "markdown",
   "metadata": {},
   "source": [
    "#### Plot"
   ]
  },
  {
   "cell_type": "code",
   "execution_count": null,
   "metadata": {},
   "outputs": [],
   "source": [
    "plotly();\n",
    "p_mag = plot(t_evol, Mmax[4,:], line=:solid, marker=:circle, label = \"OC Grape\");\n",
    "plot!(t_koma', Mz_koma', seriestype=:line, marker=:circle, label = \"KomaMRI\");"
   ]
  },
  {
   "cell_type": "code",
   "execution_count": null,
   "metadata": {},
   "outputs": [],
   "source": [
    "display(p_mag)"
   ]
  },
  {
   "cell_type": "code",
   "execution_count": null,
   "metadata": {},
   "outputs": [],
   "source": []
  }
 ],
 "metadata": {
  "kernelspec": {
   "display_name": "Julia 1.8.5",
   "language": "julia",
   "name": "julia-1.8"
  },
  "language_info": {
   "file_extension": ".jl",
   "mimetype": "application/julia",
   "name": "julia",
   "version": "1.8.5"
  },
  "orig_nbformat": 4
 },
 "nbformat": 4,
 "nbformat_minor": 2
}
