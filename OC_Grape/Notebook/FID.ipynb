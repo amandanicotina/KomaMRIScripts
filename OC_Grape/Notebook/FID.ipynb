{
 "cells": [
  {
   "cell_type": "code",
   "execution_count": null,
   "metadata": {},
   "outputs": [],
   "source": [
    "using Pkg, KomaMRI"
   ]
  },
  {
   "cell_type": "code",
   "execution_count": null,
   "metadata": {},
   "outputs": [],
   "source": [
    "# SCANNER #\n",
    "sys = Scanner()\n",
    "\n",
    "# RF PULSE #\n",
    "# 1st block -> RF block\n",
    "ampRF = 2e-6; # 2μT RF amplitude\n",
    "durRF = π / 2 / (2π * γ * ampRF); # This is the required duration for a 90deg pulse with ampRF \n",
    "                                 # (π / 2) / (2π * γ * ampRF)\n",
    "exc = RF(ampRF, durRF)\n",
    "\n",
    "# 2nd block -> ADC block\n",
    "nADC = 8192 ;\n",
    "durADC = 250e-3 ;\n",
    "delay = 1e-3 ;\n",
    "aqc = ADC(nADC, durADC, delay)\n",
    "\n",
    "# concatenating the two blocks\n",
    "seq  = Sequence()\n",
    "seq += exc\n",
    "seq += aqc\n",
    "p1 = plot_seq(seq; slider = false, height = 300)"
   ]
  },
  {
   "cell_type": "code",
   "execution_count": null,
   "metadata": {},
   "outputs": [],
   "source": [
    "# PHANTOM #\n",
    "obj = Phantom{Float64}(x = [0.], T1 = [1000e-3], T2 = [100e-3],Δw=[-2π*100])\n",
    "p3 = plot_phantom_map(obj, :T1;  darkmode=false)\n",
    "\n"
   ]
  },
  {
   "cell_type": "code",
   "execution_count": null,
   "metadata": {},
   "outputs": [],
   "source": [
    "# SIMULATE #\n",
    "raw = simulate(obj, seq, sys)\n",
    "p2 = plot_signal(raw; slider = false, height = 300)"
   ]
  },
  {
   "cell_type": "code",
   "execution_count": null,
   "metadata": {},
   "outputs": [],
   "source": []
  }
 ],
 "metadata": {
  "kernelspec": {
   "display_name": "Julia 1.8.5",
   "language": "julia",
   "name": "julia-1.8"
  },
  "language_info": {
   "file_extension": ".jl",
   "mimetype": "application/julia",
   "name": "julia",
   "version": "1.8.5"
  },
  "orig_nbformat": 4
 },
 "nbformat": 4,
 "nbformat_minor": 2
}
