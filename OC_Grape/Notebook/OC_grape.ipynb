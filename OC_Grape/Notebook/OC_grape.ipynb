{
 "cells": [
  {
   "attachments": {},
   "cell_type": "markdown",
   "metadata": {},
   "source": [
    "## KomaMRI im Optimized Shaped Pulse"
   ]
  },
  {
   "cell_type": "code",
   "execution_count": null,
   "metadata": {},
   "outputs": [],
   "source": [
    "using KomaMRI, MAT, Plots, WebIO"
   ]
  },
  {
   "attachments": {},
   "cell_type": "markdown",
   "metadata": {},
   "source": [
    "### Compartments\n",
    "- Sample A: T1 = 100ms, T2 = 50ms \n",
    "- Sample B: T1 = 50ms, T2 = 25ms"
   ]
  },
  {
   "attachments": {},
   "cell_type": "markdown",
   "metadata": {},
   "source": [
    "### Scanner\n",
    "\n",
    "- B0 =     1.5 [T] - main magnetic field\n",
    "- B1 =    1.0e-5 [T] - maximum RF amplitude\n",
    "- Gmax =   0.06 [T/m] - maximum gradient\n",
    "- Smax =   500 [mT/m/ms] - maximum slew-rate\n",
    "- ADC_Δt = 2.0e-6 [s] - ADC raster time\n",
    "- seq_Δt = 1.0e-5 [s] - sequence-block raster time\n",
    "- GR_Δt =  1.0e-5 [s] - gradient raster time\n",
    "- RF_Δt =  1.0e-6 [s] - RF raster time\n",
    "- RF_ring_down_T = 2.0e-5 [s] - RF ring down time\n",
    "- RF_dead_time_T = 0.0001 [s] - RF dead time\n",
    "- ADC_dead_time_T = 1.0e-5 [s] - ADC dead time"
   ]
  },
  {
   "attachments": {},
   "cell_type": "markdown",
   "metadata": {},
   "source": [
    "### MATLAB data"
   ]
  },
  {
   "cell_type": "code",
   "execution_count": null,
   "metadata": {},
   "outputs": [],
   "source": [
    "function read_data(file_path)\n",
    "    # MATLAB data\n",
    "    mat_data = matread(file_path)\n",
    "    RF_Hz = mat_data[\"b1\"]\n",
    "    tf_sp = mat_data[\"tf_s\"]\n",
    "    t_sp = mat_data[\"t_s\"]\n",
    "    Mmax = mat_data[\"Mmax\"]\n",
    "    Mmin = mat_data[\"Mmin\"]\n",
    "\n",
    "    return RF_Hz, tf_sp, t_sp, Mmax, Mmin\n",
    "end"
   ]
  },
  {
   "attachments": {},
   "cell_type": "markdown",
   "metadata": {},
   "source": [
    "### Functions"
   ]
  },
  {
   "attachments": {},
   "cell_type": "markdown",
   "metadata": {},
   "source": [
    "#### Sequence"
   ]
  },
  {
   "cell_type": "code",
   "execution_count": null,
   "metadata": {},
   "outputs": [],
   "source": [
    "function create_sequence(RF_T, tf_sp, nADC, durADC)\n",
    "    # RF block\n",
    "    exc = RF(RF_T', tf_sp)\n",
    "    \n",
    "    # ADC block\n",
    "    aqc = ADC(nADC, durADC)\n",
    "    \n",
    "    # Concatenating\n",
    "    seq = Sequence()\n",
    "    seq += exc\n",
    "    seq += aqc\n",
    "    \n",
    "    return seq\n",
    "end"
   ]
  },
  {
   "attachments": {},
   "cell_type": "markdown",
   "metadata": {},
   "source": [
    "#### Signal"
   ]
  },
  {
   "cell_type": "code",
   "execution_count": null,
   "metadata": {},
   "outputs": [],
   "source": [
    "function simulate_signal(obj, seq, sys)\n",
    "    signal = simulate(obj, seq, sys; simParams=Dict(\"return_type\" => \"state\"))\n",
    "    Mx = real(signal.xy)[:]\n",
    "    My = imag(signal.xy)[:]\n",
    "    Mz = signal.z[:]\n",
    "\n",
    "    return Mx, My, Mz\n",
    "end"
   ]
  },
  {
   "attachments": {},
   "cell_type": "markdown",
   "metadata": {},
   "source": [
    "#### Fidelity"
   ]
  },
  {
   "cell_type": "code",
   "execution_count": null,
   "metadata": {},
   "outputs": [],
   "source": [
    "function calculate_fidelity(Mx, My, Mz, Mref)\n",
    "    fidelity_Mx = round(abs(Mx[] - Mref[2, end])*100, digits=2)\n",
    "    fidelity_My = round(abs(My[] - Mref[3, end])*100, digits=2)\n",
    "    fidelity_Mz = round(abs(Mz[] - Mref[4, end])*100, digits=2)\n",
    "\n",
    "    return fidelity_Mx, fidelity_My, fidelity_Mz\n",
    "end"
   ]
  },
  {
   "attachments": {},
   "cell_type": "markdown",
   "metadata": {},
   "source": [
    "#### Magnetization Dynamics"
   ]
  },
  {
   "cell_type": "code",
   "execution_count": null,
   "metadata": {},
   "outputs": [],
   "source": [
    "function simulate_magnetization_dynamics(RF_T, t_sp, sys, obj1, nADC, durADC)\n",
    "    pieces = length(RF_T)\n",
    "    M_koma = zeros(Float64, 3, pieces)\n",
    "    t_koma = zeros(Float64, 1, pieces)\n",
    "    \n",
    "    for i in 1:pieces\n",
    "        blocks = Int(length(RF_T) / pieces)\n",
    "        rf_block = RF_T[1, 1:i*blocks]'\n",
    "        t_block = t_sp[1, i*blocks]\n",
    "\n",
    "        seq1 = create_sequence(rf_block, t_block, nADC, durADC)\n",
    "\n",
    "        Mx, My, Mz = simulate_signal(obj1, seq1, sys)\n",
    "\n",
    "        M_koma[1, i] = Mx[]\n",
    "        M_koma[2, i] = My[]\n",
    "        M_koma[3, i] = Mz[]\n",
    "        t_koma[1, i] = t_block\n",
    "    end\n",
    "    \n",
    "    return M_koma[2, :], M_koma[3, :], t_koma'\n",
    "end"
   ]
  },
  {
   "attachments": {},
   "cell_type": "markdown",
   "metadata": {},
   "source": [
    "#### Plots"
   ]
  },
  {
   "cell_type": "code",
   "execution_count": null,
   "metadata": {},
   "outputs": [],
   "source": [
    "function plot_results(t_evol, Mmax, t_koma, Mz_koma)\n",
    "    plotly()\n",
    "    plot(t_evol, Mmax[4, :], line=:solid, marker=:circle, label=\"OC Grape\")\n",
    "    plot!(t_koma, Mz_koma, seriestype=:line, marker=:, label=\"KomaMRI\")\n",
    "end"
   ]
  },
  {
   "attachments": {},
   "cell_type": "markdown",
   "metadata": {},
   "source": [
    "### Data for simulations"
   ]
  },
  {
   "attachments": {},
   "cell_type": "markdown",
   "metadata": {},
   "source": [
    "#### Load MATLAB data"
   ]
  },
  {
   "cell_type": "code",
   "execution_count": null,
   "metadata": {},
   "outputs": [],
   "source": [
    "oc_path = \"/Users/amandanicotina/Documents/Julia/Projects/KomaMRIScripts/OC_Grape/OC_fields/oc_field.mat\"\n",
    "RF_Hz, tf_sp, t_sp, Mmax, Mmin = read_data(oc_path)"
   ]
  },
  {
   "attachments": {},
   "cell_type": "markdown",
   "metadata": {},
   "source": [
    "#### Scanner"
   ]
  },
  {
   "cell_type": "code",
   "execution_count": null,
   "metadata": {},
   "outputs": [],
   "source": [
    "sys = Scanner()"
   ]
  },
  {
   "attachments": {},
   "cell_type": "markdown",
   "metadata": {},
   "source": [
    "#### Phantom"
   ]
  },
  {
   "cell_type": "code",
   "execution_count": null,
   "metadata": {},
   "outputs": [],
   "source": [
    "obj = \n",
    "Phantom{Float64}(name = \"spin1\", x = [0.], T1 = [274e-3], T2 = [237e-3], Δw = [2π*7450]);\n",
    "Mref = Mmax;"
   ]
  },
  {
   "attachments": {},
   "cell_type": "markdown",
   "metadata": {},
   "source": [
    "#### Create sequence"
   ]
  },
  {
   "cell_type": "code",
   "execution_count": null,
   "metadata": {},
   "outputs": [],
   "source": [
    "# convert to Tesla\n",
    "RF_T = RF_Hz/γ;\n",
    "\n",
    "# 1st block -> RF block\n",
    "exc = RF(RF_T', tf_sp);\n",
    "\n",
    "# 2nd block -> ADC block\n",
    "nADC = 1 ;\n",
    "durADC = 1e-3 ;\n",
    "\n",
    "seq =  create_sequence(RF_T, tf_sp, nADC, durADC);\n",
    "\n",
    "# Plot Sequence\n",
    "# p1 = plot_seq(seq; slider = false, height = 300, max_rf_samples=Inf)"
   ]
  },
  {
   "attachments": {},
   "cell_type": "markdown",
   "metadata": {},
   "source": [
    "#### Calculate signal and fidelity"
   ]
  },
  {
   "cell_type": "code",
   "execution_count": null,
   "metadata": {},
   "outputs": [],
   "source": [
    "(Mx, My, Mz) = simulate_signal(obj, seq, sys)\n",
    "(Fx, Fy, Fz) = calculate_fidelity(Mx, My, Mz, Mref)"
   ]
  },
  {
   "attachments": {},
   "cell_type": "markdown",
   "metadata": {},
   "source": [
    "#### Simulate magnetization dynamics"
   ]
  },
  {
   "cell_type": "code",
   "execution_count": null,
   "metadata": {},
   "outputs": [],
   "source": [
    "(Mykoma, Mzkoma, tkoma) = \n",
    "simulate_magnetization_dynamics(RF_T, t_sp, sys, obj, nADC, durADC)"
   ]
  },
  {
   "attachments": {},
   "cell_type": "markdown",
   "metadata": {},
   "source": [
    "#### Plots"
   ]
  },
  {
   "cell_type": "code",
   "execution_count": null,
   "metadata": {},
   "outputs": [],
   "source": [
    "plot_results(t_evol, Mmax, tkoma, Mzkoma)\n",
    "\n",
    "### Check x and z which is which\n"
   ]
  }
 ],
 "metadata": {
  "kernelspec": {
   "display_name": "Julia 1.8.5",
   "language": "julia",
   "name": "julia-1.8"
  },
  "language_info": {
   "file_extension": ".jl",
   "mimetype": "application/julia",
   "name": "julia",
   "version": "1.8.5"
  },
  "orig_nbformat": 4
 },
 "nbformat": 4,
 "nbformat_minor": 2
}
