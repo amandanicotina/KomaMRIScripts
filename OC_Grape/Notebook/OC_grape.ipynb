{
 "cells": [
  {
   "attachments": {},
   "cell_type": "markdown",
   "metadata": {},
   "source": [
    "## KomaMRI im Optimized Shaped Pulse"
   ]
  },
  {
   "cell_type": "code",
   "execution_count": 1,
   "metadata": {},
   "outputs": [],
   "source": [
    "using KomaMRI, MAT, Plots, WebIO"
   ]
  },
  {
   "attachments": {},
   "cell_type": "markdown",
   "metadata": {},
   "source": [
    "### Compartments\n",
    "- Sample A: T1 = 100ms, T2 = 50ms \n",
    "- Sample B: T1 = 50ms, T2 = 25ms"
   ]
  },
  {
   "attachments": {},
   "cell_type": "markdown",
   "metadata": {},
   "source": [
    "### Scanner\n",
    "\n",
    "- B0 =     1.5 [T] - main magnetic field\n",
    "- B1 =    1.0e-5 [T] - maximum RF amplitude\n",
    "- Gmax =   0.06 [T/m] - maximum gradient\n",
    "- Smax =   500 [mT/m/ms] - maximum slew-rate\n",
    "- ADC_Δt = 2.0e-6 [s] - ADC raster time\n",
    "- seq_Δt = 1.0e-5 [s] - sequence-block raster time\n",
    "- GR_Δt =  1.0e-5 [s] - gradient raster time\n",
    "- RF_Δt =  1.0e-6 [s] - RF raster time\n",
    "- RF_ring_down_T = 2.0e-5 [s] - RF ring down time\n",
    "- RF_dead_time_T = 0.0001 [s] - RF dead time\n",
    "- ADC_dead_time_T = 1.0e-5 [s] - ADC dead time"
   ]
  },
  {
   "attachments": {},
   "cell_type": "markdown",
   "metadata": {},
   "source": [
    "### MATLAB data"
   ]
  },
  {
   "cell_type": "code",
   "execution_count": 2,
   "metadata": {},
   "outputs": [
    {
     "data": {
      "text/plain": [
       "read_data (generic function with 1 method)"
      ]
     },
     "metadata": {},
     "output_type": "display_data"
    }
   ],
   "source": [
    "function read_data(file_path)\n",
    "    # MATLAB data\n",
    "    mat_data = matread(file_path)\n",
    "    RF_Hz = mat_data[\"b1\"]\n",
    "    tf_sp = mat_data[\"tf_s\"]\n",
    "    t_sp = mat_data[\"t_s\"]\n",
    "    Mmax = mat_data[\"Mmax\"]\n",
    "    Mmin = mat_data[\"Mmin\"]\n",
    "\n",
    "    return RF_Hz, tf_sp, t_sp, Mmax, Mmin\n",
    "end"
   ]
  },
  {
   "attachments": {},
   "cell_type": "markdown",
   "metadata": {},
   "source": [
    "### Functions"
   ]
  },
  {
   "attachments": {},
   "cell_type": "markdown",
   "metadata": {},
   "source": [
    "#### Sequence"
   ]
  },
  {
   "cell_type": "code",
   "execution_count": 3,
   "metadata": {},
   "outputs": [
    {
     "data": {
      "text/plain": [
       "create_sequence (generic function with 1 method)"
      ]
     },
     "metadata": {},
     "output_type": "display_data"
    }
   ],
   "source": [
    "function create_sequence(RF_T, tf_sp, nADC, durADC)\n",
    "    # RF block\n",
    "    exc = RF(RF_T', tf_sp)\n",
    "    \n",
    "    # ADC block\n",
    "    aqc = ADC(nADC, durADC)\n",
    "    \n",
    "    # Concatenating\n",
    "    seq = Sequence()\n",
    "    seq += exc\n",
    "    seq += aqc\n",
    "    \n",
    "    return seq\n",
    "end"
   ]
  },
  {
   "attachments": {},
   "cell_type": "markdown",
   "metadata": {},
   "source": [
    "#### Signal"
   ]
  },
  {
   "cell_type": "code",
   "execution_count": 4,
   "metadata": {},
   "outputs": [
    {
     "data": {
      "text/plain": [
       "simulate_signal (generic function with 1 method)"
      ]
     },
     "metadata": {},
     "output_type": "display_data"
    }
   ],
   "source": [
    "function simulate_signal(obj, seq, sys)\n",
    "    signal = simulate(obj, seq, sys; simParams=Dict(\"return_type\" => \"state\"))\n",
    "    Mx = real(signal.xy)[:]\n",
    "    My = imag(signal.xy)[:]\n",
    "    Mz = signal.z[:]\n",
    "\n",
    "    return Mx, My, Mz\n",
    "end"
   ]
  },
  {
   "attachments": {},
   "cell_type": "markdown",
   "metadata": {},
   "source": [
    "#### Fidelity"
   ]
  },
  {
   "cell_type": "code",
   "execution_count": 5,
   "metadata": {},
   "outputs": [
    {
     "data": {
      "text/plain": [
       "calculate_fidelity (generic function with 1 method)"
      ]
     },
     "metadata": {},
     "output_type": "display_data"
    }
   ],
   "source": [
    "function calculate_fidelity(Mx, My, Mz, Mref)\n",
    "    fidelity_Mx = round(abs(Mx[] - Mref[2, end])*100, digits=2)\n",
    "    fidelity_My = round(abs(My[] - Mref[3, end])*100, digits=2)\n",
    "    fidelity_Mz = round(abs(Mz[] - Mref[4, end])*100, digits=2)\n",
    "\n",
    "    return fidelity_Mx, fidelity_My, fidelity_Mz\n",
    "end"
   ]
  },
  {
   "attachments": {},
   "cell_type": "markdown",
   "metadata": {},
   "source": [
    "#### Magnetization Dynamics"
   ]
  },
  {
   "cell_type": "code",
   "execution_count": 6,
   "metadata": {},
   "outputs": [
    {
     "data": {
      "text/plain": [
       "simulate_magnetization_dynamics (generic function with 1 method)"
      ]
     },
     "metadata": {},
     "output_type": "display_data"
    }
   ],
   "source": [
    "function simulate_magnetization_dynamics(RF_T, t_sp, sys, obj1, nADC, durADC)\n",
    "    pieces = length(RF_T)\n",
    "    M_koma = zeros(Float64, 3, pieces)\n",
    "    t_koma = zeros(Float64, 1, pieces)\n",
    "    \n",
    "    for i in 1:pieces\n",
    "        blocks = Int(length(RF_T) / pieces)\n",
    "        rf_block = RF_T[1, 1:i*blocks]'\n",
    "        t_block = t_sp[1, i*blocks]\n",
    "\n",
    "        seq1 = create_sequence(rf_block, t_block, nADC, durADC)\n",
    "\n",
    "        Mx, My, Mz = simulate_signal(obj1, seq1, sys)\n",
    "\n",
    "        M_koma[1, i] = Mx[]\n",
    "        M_koma[2, i] = My[]\n",
    "        M_koma[3, i] = Mz[]\n",
    "        t_koma[1, i] = t_block\n",
    "    end\n",
    "    \n",
    "    return M_koma[2, :], M_koma[3, :], t_koma'\n",
    "end"
   ]
  },
  {
   "attachments": {},
   "cell_type": "markdown",
   "metadata": {},
   "source": [
    "#### Plots"
   ]
  },
  {
   "cell_type": "code",
   "execution_count": 7,
   "metadata": {},
   "outputs": [
    {
     "data": {
      "text/plain": [
       "plot_results (generic function with 1 method)"
      ]
     },
     "metadata": {},
     "output_type": "display_data"
    }
   ],
   "source": [
    "function plot_results(t_evol, Mmax, t_koma, Mz_koma)\n",
    "    plotly()\n",
    "    plot(t_evol, Mmax[4, :], line=:solid, marker=:circle, label=\"OC Grape\")\n",
    "    plot!(t_koma, Mz_koma, seriestype=:line, marker=:circle, label=\"KomaMRI\")\n",
    "end"
   ]
  },
  {
   "attachments": {},
   "cell_type": "markdown",
   "metadata": {},
   "source": [
    "### Data for simulations"
   ]
  },
  {
   "attachments": {},
   "cell_type": "markdown",
   "metadata": {},
   "source": [
    "#### Load MATLAB data"
   ]
  },
  {
   "cell_type": "code",
   "execution_count": 8,
   "metadata": {},
   "outputs": [
    {
     "data": {
      "text/plain": [
       "([-0.004595534572678076 -0.005070846407546822 … 4.03368665287538 -1.69328114318714], 1.056, [0.0 0.1056 … 0.8448 0.9504], [1.0 1.0 … 1.0 1.0; 0.0 0.0 … 0.0 0.0; 0.0 -0.0024604335412838738 … 0.8033397195397103 -0.028231915256496723; 1.0 0.9999964585200963 … 0.16085434326647235 0.7900076913059519], [1.0 1.0 … 1.0 1.0; 0.0 0.0 … 0.0 0.0; 0.0 -0.002014872998520531 … 0.7196685805165768 -0.1659950028094887; 1.0 0.9999972726826462 … 0.14310148598291272 0.7643335838722631])"
      ]
     },
     "metadata": {},
     "output_type": "display_data"
    }
   ],
   "source": [
    "oc_path = \"/Users/amandanicotina/Documents/Julia/Projects/KomaMRIScripts/OC_Grape/OC_fields/oc_field.mat\"\n",
    "RF_Hz, tf_sp, t_sp, Mmax, Mmin = read_data(oc_path)"
   ]
  },
  {
   "attachments": {},
   "cell_type": "markdown",
   "metadata": {},
   "source": [
    "#### Scanner"
   ]
  },
  {
   "cell_type": "code",
   "execution_count": 9,
   "metadata": {},
   "outputs": [
    {
     "data": {
      "text/plain": [
       "Scanner\n",
       "  B0: Float64 1.5\n",
       "  B1: Float64 1.0e-5\n",
       "  Gmax: Float64 0.06\n",
       "  Smax: Int64 500\n",
       "  ADC_Δt: Float64 2.0e-6\n",
       "  seq_Δt: Float64 1.0e-5\n",
       "  GR_Δt: Float64 1.0e-5\n",
       "  RF_Δt: Float64 1.0e-6\n",
       "  RF_ring_down_T: Float64 2.0e-5\n",
       "  RF_dead_time_T: Float64 0.0001\n",
       "  ADC_dead_time_T: Float64 1.0e-5\n"
      ]
     },
     "metadata": {},
     "output_type": "display_data"
    }
   ],
   "source": [
    "sys = Scanner()"
   ]
  },
  {
   "attachments": {},
   "cell_type": "markdown",
   "metadata": {},
   "source": [
    "#### Phantom"
   ]
  },
  {
   "cell_type": "code",
   "execution_count": 10,
   "metadata": {},
   "outputs": [],
   "source": [
    "obj = \n",
    "Phantom{Float64}(name = \"spin1\", x = [0.], T1 = [274e-3], T2 = [237e-3], Δw = [2π*7450]);\n",
    "Mref = Mmax;"
   ]
  },
  {
   "attachments": {},
   "cell_type": "markdown",
   "metadata": {},
   "source": [
    "#### Create sequence"
   ]
  },
  {
   "cell_type": "code",
   "execution_count": 11,
   "metadata": {},
   "outputs": [
    {
     "data": {
      "text/plain": [
       "Sequence[ τ = 1057.0 ms | blocks: 3 | ADC: 1 | GR: 0 | RF: 1 | DEF: 0 ]"
      ]
     },
     "metadata": {},
     "output_type": "display_data"
    }
   ],
   "source": [
    "# convert to Tesla\n",
    "RF_T = RF_Hz/γ;\n",
    "\n",
    "# 1st block -> RF block\n",
    "exc = RF(RF_T', tf_sp);\n",
    "\n",
    "# 2nd block -> ADC block\n",
    "nADC = 1 ;\n",
    "durADC = 1e-3 ;\n",
    "\n",
    "seq =  create_sequence(RF_T, tf_sp, nADC, durADC);\n",
    "\n",
    "# Plot Sequence\n",
    "# p1 = plot_seq(seq; slider = false, height = 300, max_rf_samples=Inf)"
   ]
  },
  {
   "attachments": {},
   "cell_type": "markdown",
   "metadata": {},
   "source": [
    "#### Calculate signal and fidelity"
   ]
  },
  {
   "cell_type": "code",
   "execution_count": 12,
   "metadata": {},
   "outputs": [
    {
     "name": "stderr",
     "output_type": "stream",
     "text": [
      "┌ Info: The GPU function is being called but the GPU is not accessible. \n",
      "│ Defaulting back to the CPU. (No action is required if you want to run on the CPU).\n",
      "└ @ KomaMRI /Users/amandanicotina/.julia/packages/KomaMRI/qZTLv/src/simulation/GPUFunctions.jl:29\n",
      "┌ Info: Running simulation in the CPU with 1 thread(s)\n",
      "│   koma_version = 0.7.3\n",
      "│   sim_method = KomaMRI.Bloch()\n",
      "│   spins = 1\n",
      "│   time_points = 21122\n",
      "│   adc_points = 1\n",
      "└ @ KomaMRI /Users/amandanicotina/.julia/packages/KomaMRI/qZTLv/src/simulation/SimulatorCore.jl:219\n"
     ]
    },
    {
     "name": "stderr",
     "output_type": "stream",
     "text": [
      "\r\u001b[32mProgress:  10%|███▉                                     |  ETA: 0:00:39\u001b[39m\u001b[K\r\n",
      "\u001b[34m  simulated_blocks:  2\u001b[39m\u001b[K\r\n",
      "\u001b[34m  rf_blocks:         2\u001b[39m\u001b[K\r\n",
      "\u001b[34m  acq_samples:       0\u001b[39m\u001b[K\r\u001b[A\r\u001b[A\r\u001b[A"
     ]
    },
    {
     "name": "stderr",
     "output_type": "stream",
     "text": [
      "\n",
      "\n",
      "\n",
      "\r\u001b[K\u001b[A\r\u001b[K\u001b[A\r\u001b[K\u001b[A\r\u001b[32mProgress:  52%|█████████████████████▌                   |  ETA: 0:00:05\u001b[39m\u001b[K\r\n",
      "\u001b[34m  simulated_blocks:  11\u001b[39m\u001b[K\r\n",
      "\u001b[34m  rf_blocks:         11\u001b[39m\u001b[K\r\n",
      "\u001b[34m  acq_samples:       0\u001b[39m\u001b[K\r\u001b[A\r\u001b[A\r\u001b[A"
     ]
    },
    {
     "name": "stderr",
     "output_type": "stream",
     "text": [
      "\n",
      "\n",
      "\n",
      "\r\u001b[K\u001b[A\r\u001b[K\u001b[A\r\u001b[K\u001b[A\r\u001b[32mProgress:  86%|███████████████████████████████████▏     |  ETA: 0:00:01\u001b[39m\u001b[K\r\n",
      "\u001b[34m  simulated_blocks:  18\u001b[39m\u001b[K\r\n",
      "\u001b[34m  rf_blocks:         18\u001b[39m\u001b[K\r\n",
      "\u001b[34m  acq_samples:       0\u001b[39m\u001b[K\r\u001b[A\r\u001b[A\r\u001b[A"
     ]
    },
    {
     "name": "stderr",
     "output_type": "stream",
     "text": [
      "\n",
      "\n",
      "\n",
      "\r\u001b[K\u001b[A\r\u001b[K\u001b[A\r\u001b[K\u001b[A\r\u001b[32mProgress:  95%|███████████████████████████████████████  |  ETA: 0:00:00\u001b[39m\u001b[K\r\n",
      "\u001b[34m  simulated_blocks:  20\u001b[39m\u001b[K\r\n",
      "\u001b[34m  rf_blocks:         20\u001b[39m\u001b[K\r\n",
      "\u001b[34m  acq_samples:       0\u001b[39m\u001b[K\r\u001b[A\r\u001b[A\r\u001b[A"
     ]
    },
    {
     "name": "stderr",
     "output_type": "stream",
     "text": [
      "\n",
      "\n",
      "\n",
      "\r\u001b[K\u001b[A\r\u001b[K\u001b[A\r\u001b[K\u001b[A\r\u001b[32mProgress: 100%|█████████████████████████████████████████| Time: 0:00:07\u001b[39m\u001b[K\r\n",
      "\u001b[34m  simulated_blocks:  21\u001b[39m\u001b[K\r\n",
      "\u001b[34m  rf_blocks:         20\u001b[39m\u001b[K\r\n",
      "\u001b[34m  acq_samples:       1\u001b[39m\u001b[K\n"
     ]
    },
    {
     "name": "stdout",
     "output_type": "stream",
     "text": [
      "  7.954935 seconds (31.47 M allocations: 1.501 GiB, 3.42% gc time, 85.34% compilation time: 1% of which was recompilation)\n"
     ]
    },
    {
     "data": {
      "text/plain": [
       "(0.05, 2.75, 20.99)"
      ]
     },
     "metadata": {},
     "output_type": "display_data"
    }
   ],
   "source": [
    "(Mx, My, Mz) = simulate_signal(obj, seq, sys)\n",
    "(Fx, Fy, Fz) = calculate_fidelity(Mx, My, Mz, Mref)"
   ]
  },
  {
   "attachments": {},
   "cell_type": "markdown",
   "metadata": {},
   "source": [
    "#### Simulate magnetization dynamics"
   ]
  },
  {
   "cell_type": "code",
   "execution_count": 13,
   "metadata": {},
   "outputs": [
    {
     "name": "stdout",
     "output_type": "stream",
     "text": [
      "  0.000684 seconds (224 allocations: 12.516 KiB)\n"
     ]
    },
    {
     "name": "stderr",
     "output_type": "stream",
     "text": [
      "┌ Info: Running simulation in the CPU with 1 thread(s)\n",
      "│   koma_version = 0.7.3\n",
      "│   sim_method = KomaMRI.Bloch()\n",
      "│   spins = 1\n",
      "│   time_points = 2\n",
      "│   adc_points = 1\n",
      "└ @ KomaMRI /Users/amandanicotina/.julia/packages/KomaMRI/qZTLv/src/simulation/SimulatorCore.jl:219\n",
      "┌ Info: Running simulation in the CPU with 1 thread(s)\n",
      "│   koma_version = 0.7.3\n",
      "│   sim_method = KomaMRI.Bloch()\n",
      "│   spins = 1\n",
      "│   time_points = 2114\n",
      "│   adc_points = 1\n",
      "└ @ KomaMRI /Users/amandanicotina/.julia/packages/KomaMRI/qZTLv/src/simulation/SimulatorCore.jl:219\n"
     ]
    },
    {
     "name": "stderr",
     "output_type": "stream",
     "text": [
      "\r\u001b[32mProgress:  81%|█████████████████████████████████▎       |  ETA: 0:00:00\u001b[39m\u001b[K\r\n",
      "\u001b[34m  simulated_blocks:  17\u001b[39m\u001b[K\r\n",
      "\u001b[34m  rf_blocks:         17\u001b[39m\u001b[K\r\n",
      "\u001b[34m  acq_samples:       0\u001b[39m\u001b[K\r\u001b[A\r\u001b[A\r\u001b[A"
     ]
    },
    {
     "name": "stderr",
     "output_type": "stream",
     "text": [
      "\n",
      "\n",
      "\n",
      "\r\u001b[K\u001b[A\r\u001b[K\u001b[A\r\u001b[K\u001b[A\r\u001b[32mProgress: 100%|█████████████████████████████████████████| Time: 0:00:00\u001b[39m\u001b[K\r\n",
      "\u001b[34m  simulated_blocks:  21\u001b[39m\u001b[K\r\n",
      "\u001b[34m  rf_blocks:         20\u001b[39m\u001b[K\r\n",
      "\u001b[34m  acq_samples:       1\u001b[39m\u001b[K\n"
     ]
    },
    {
     "name": "stdout",
     "output_type": "stream",
     "text": [
      "  0.120524 seconds (413.06 k allocations: 19.881 MiB)\n"
     ]
    },
    {
     "name": "stderr",
     "output_type": "stream",
     "text": [
      "┌ Info: Running simulation in the CPU with 1 thread(s)\n",
      "│   koma_version = 0.7.3\n",
      "│   sim_method = KomaMRI.Bloch()\n",
      "│   spins = 1\n",
      "│   time_points = 4226\n",
      "│   adc_points = 1\n",
      "└ @ KomaMRI /Users/amandanicotina/.julia/packages/KomaMRI/qZTLv/src/simulation/SimulatorCore.jl:219\n"
     ]
    },
    {
     "name": "stderr",
     "output_type": "stream",
     "text": [
      "\r\u001b[32mProgress:  43%|█████████████████▋                       |  ETA: 0:00:00\u001b[39m\u001b[K\r\n",
      "\u001b[34m  simulated_blocks:  9\u001b[39m\u001b[K\r\n",
      "\u001b[34m  rf_blocks:         9\u001b[39m\u001b[K\r\n",
      "\u001b[34m  acq_samples:       0\u001b[39m\u001b[K\r\u001b[A\r\u001b[A\r\u001b[A"
     ]
    },
    {
     "name": "stderr",
     "output_type": "stream",
     "text": [
      "\n",
      "\n",
      "\n",
      "\r\u001b[K\u001b[A\r\u001b[K\u001b[A\r\u001b[K\u001b[A\r\u001b[32mProgress:  81%|█████████████████████████████████▎       |  ETA: 0:00:00\u001b[39m\u001b[K\r\n",
      "\u001b[34m  simulated_blocks:  17\u001b[39m\u001b[K\r\n",
      "\u001b[34m  rf_blocks:         17\u001b[39m\u001b[K\r\n",
      "\u001b[34m  acq_samples:       0\u001b[39m\u001b[K\r\u001b[A\r\u001b[A\r\u001b[A"
     ]
    },
    {
     "name": "stderr",
     "output_type": "stream",
     "text": [
      "\n",
      "\n",
      "\n",
      "\r\u001b[K\u001b[A\r\u001b[K\u001b[A\r\u001b[K\u001b[A\r\u001b[32mProgress: 100%|█████████████████████████████████████████| Time: 0:00:00\u001b[39m\u001b[K\r\n",
      "\u001b[34m  simulated_blocks:  21\u001b[39m\u001b[K\r\n",
      "\u001b[34m  rf_blocks:         20\u001b[39m\u001b[K\r\n",
      "\u001b[34m  acq_samples:       1\u001b[39m\u001b[K\n"
     ]
    },
    {
     "name": "stdout",
     "output_type": "stream",
     "text": [
      "  0.293627 seconds (823.10 k allocations: 39.594 MiB, 14.64% gc time)\n"
     ]
    },
    {
     "name": "stderr",
     "output_type": "stream",
     "text": [
      "┌ Info: Running simulation in the CPU with 1 thread(s)\n",
      "│   koma_version = 0.7.3\n",
      "│   sim_method = KomaMRI.Bloch()\n",
      "│   spins = 1\n",
      "│   time_points = 6337\n",
      "│   adc_points = 1\n",
      "└ @ KomaMRI /Users/amandanicotina/.julia/packages/KomaMRI/qZTLv/src/simulation/SimulatorCore.jl:219\n"
     ]
    },
    {
     "name": "stderr",
     "output_type": "stream",
     "text": [
      "\r\u001b[32mProgress:  29%|███████████▊                             |  ETA: 0:00:00\u001b[39m\u001b[K\r\n",
      "\u001b[34m  simulated_blocks:  6\u001b[39m\u001b[K\r\n",
      "\u001b[34m  rf_blocks:         6\u001b[39m\u001b[K\r\n",
      "\u001b[34m  acq_samples:       0\u001b[39m\u001b[K\r\u001b[A\r\u001b[A\r\u001b[A"
     ]
    },
    {
     "name": "stderr",
     "output_type": "stream",
     "text": [
      "\n",
      "\n",
      "\n",
      "\r\u001b[K\u001b[A\r\u001b[K\u001b[A\r\u001b[K\u001b[A\r\u001b[32mProgress:  57%|███████████████████████▍                 |  ETA: 0:00:00\u001b[39m\u001b[K\r\n",
      "\u001b[34m  simulated_blocks:  12\u001b[39m\u001b[K\r\n",
      "\u001b[34m  rf_blocks:         12\u001b[39m\u001b[K\r\n",
      "\u001b[34m  acq_samples:       0\u001b[39m\u001b[K\r\u001b[A\r\u001b[A\r\u001b[A"
     ]
    },
    {
     "name": "stderr",
     "output_type": "stream",
     "text": [
      "\n",
      "\n",
      "\n",
      "\r\u001b[K\u001b[A\r\u001b[K\u001b[A\r\u001b[K\u001b[A\r\u001b[32mProgress:  86%|███████████████████████████████████▏     |  ETA: 0:00:00\u001b[39m\u001b[K\r\n",
      "\u001b[34m  simulated_blocks:  18\u001b[39m\u001b[K\r\n",
      "\u001b[34m  rf_blocks:         18\u001b[39m\u001b[K\r\n",
      "\u001b[34m  acq_samples:       0\u001b[39m\u001b[K\r\u001b[A\r\u001b[A\r\u001b[A"
     ]
    },
    {
     "name": "stderr",
     "output_type": "stream",
     "text": [
      "\n",
      "\n",
      "\n",
      "\r\u001b[K\u001b[A\r\u001b[K\u001b[A\r\u001b[K\u001b[A\r\u001b[32mProgress: 100%|█████████████████████████████████████████| Time: 0:00:00\u001b[39m\u001b[K\r\n",
      "\u001b[34m  simulated_blocks:  21\u001b[39m\u001b[K\r\n",
      "\u001b[34m  rf_blocks:         20\u001b[39m\u001b[K\r\n",
      "\u001b[34m  acq_samples:       1\u001b[39m\u001b[K\n"
     ]
    },
    {
     "name": "stdout",
     "output_type": "stream",
     "text": [
      "  0.355610 seconds (1.23 M allocations: 59.378 MiB)\n"
     ]
    },
    {
     "name": "stderr",
     "output_type": "stream",
     "text": [
      "┌ Info: Running simulation in the CPU with 1 thread(s)\n",
      "│   koma_version = 0.7.3\n",
      "│   sim_method = KomaMRI.Bloch()\n",
      "│   spins = 1\n",
      "│   time_points = 8450\n",
      "│   adc_points = 1\n",
      "└ @ KomaMRI /Users/amandanicotina/.julia/packages/KomaMRI/qZTLv/src/simulation/SimulatorCore.jl:219\n"
     ]
    },
    {
     "name": "stderr",
     "output_type": "stream",
     "text": [
      "\r\u001b[32mProgress:  24%|█████████▊                               |  ETA: 0:00:00\u001b[39m\u001b[K\r\n",
      "\u001b[34m  simulated_blocks:  5\u001b[39m\u001b[K\r\n",
      "\u001b[34m  rf_blocks:         5\u001b[39m\u001b[K\r\n",
      "\u001b[34m  acq_samples:       0\u001b[39m\u001b[K\r\u001b[A\r\u001b[A\r\u001b[A"
     ]
    },
    {
     "name": "stderr",
     "output_type": "stream",
     "text": [
      "\n",
      "\n",
      "\n",
      "\r\u001b[K\u001b[A\r\u001b[K\u001b[A\r\u001b[K\u001b[A\r\u001b[32mProgress:  48%|███████████████████▌                     |  ETA: 0:00:00\u001b[39m\u001b[K\r\n",
      "\u001b[34m  simulated_blocks:  10\u001b[39m\u001b[K\r\n",
      "\u001b[34m  rf_blocks:         10\u001b[39m\u001b[K\r\n",
      "\u001b[34m  acq_samples:       0\u001b[39m\u001b[K\r\u001b[A\r\u001b[A\r\u001b[A"
     ]
    },
    {
     "name": "stderr",
     "output_type": "stream",
     "text": [
      "\n",
      "\n",
      "\n",
      "\r\u001b[K\u001b[A\r\u001b[K\u001b[A\r\u001b[K\u001b[A\r\u001b[32mProgress:  71%|█████████████████████████████▎           |  ETA: 0:00:00\u001b[39m\u001b[K\r\n",
      "\u001b[34m  simulated_blocks:  15\u001b[39m\u001b[K\r\n",
      "\u001b[34m  rf_blocks:         15\u001b[39m\u001b[K\r\n",
      "\u001b[34m  acq_samples:       0\u001b[39m\u001b[K\r\u001b[A\r\u001b[A\r\u001b[A"
     ]
    },
    {
     "name": "stderr",
     "output_type": "stream",
     "text": [
      "\n",
      "\n",
      "\n",
      "\r\u001b[K\u001b[A\r\u001b[K\u001b[A\r\u001b[K\u001b[A\r\u001b[32mProgress:  90%|█████████████████████████████████████▏   |  ETA: 0:00:00\u001b[39m\u001b[K\r\n",
      "\u001b[34m  simulated_blocks:  19\u001b[39m\u001b[K\r\n",
      "\u001b[34m  rf_blocks:         19\u001b[39m\u001b[K\r\n",
      "\u001b[34m  acq_samples:       0\u001b[39m\u001b[K\r\u001b[A\r\u001b[A\r\u001b[A"
     ]
    },
    {
     "name": "stderr",
     "output_type": "stream",
     "text": [
      "\n",
      "\n",
      "\n",
      "\r\u001b[K\u001b[A\r\u001b[K\u001b[A\r\u001b[K\u001b[A\r\u001b[32mProgress: 100%|█████████████████████████████████████████| Time: 0:00:00\u001b[39m\u001b[K\r\n",
      "\u001b[34m  simulated_blocks:  21\u001b[39m\u001b[K\r\n",
      "\u001b[34m  rf_blocks:         20\u001b[39m\u001b[K\r\n",
      "\u001b[34m  acq_samples:       1\u001b[39m\u001b[K\n"
     ]
    },
    {
     "name": "stdout",
     "output_type": "stream",
     "text": [
      "  0.483750 seconds (1.64 M allocations: 79.101 MiB)\n"
     ]
    },
    {
     "name": "stderr",
     "output_type": "stream",
     "text": [
      "┌ Info: Running simulation in the CPU with 1 thread(s)\n",
      "│   koma_version = 0.7.3\n",
      "│   sim_method = KomaMRI.Bloch()\n",
      "│   spins = 1\n",
      "│   time_points = 10562\n",
      "│   adc_points = 1\n",
      "└ @ KomaMRI /Users/amandanicotina/.julia/packages/KomaMRI/qZTLv/src/simulation/SimulatorCore.jl:219\n"
     ]
    },
    {
     "name": "stderr",
     "output_type": "stream",
     "text": [
      "\r\u001b[32mProgress:  19%|███████▊                                 |  ETA: 0:00:01\u001b[39m\u001b[K\r\n",
      "\u001b[34m  simulated_blocks:  4\u001b[39m\u001b[K\r\n",
      "\u001b[34m  rf_blocks:         4\u001b[39m\u001b[K\r\n",
      "\u001b[34m  acq_samples:       0\u001b[39m\u001b[K\r\u001b[A\r\u001b[A\r\u001b[A"
     ]
    },
    {
     "name": "stderr",
     "output_type": "stream",
     "text": [
      "\n",
      "\n",
      "\n",
      "\r\u001b[K\u001b[A\r\u001b[K\u001b[A\r\u001b[K\u001b[A\r\u001b[32mProgress:  33%|█████████████▋                           |  ETA: 0:00:01\u001b[39m\u001b[K\r\n",
      "\u001b[34m  simulated_blocks:  7\u001b[39m\u001b[K\r\n",
      "\u001b[34m  rf_blocks:         7\u001b[39m\u001b[K\r\n",
      "\u001b[34m  acq_samples:       0\u001b[39m\u001b[K\r\u001b[A\r\u001b[A\r\u001b[A"
     ]
    },
    {
     "name": "stderr",
     "output_type": "stream",
     "text": [
      "\n",
      "\n",
      "\n",
      "\r\u001b[K\u001b[A\r\u001b[K\u001b[A\r\u001b[K\u001b[A\r\u001b[32mProgress:  52%|█████████████████████▌                   |  ETA: 0:00:00\u001b[39m\u001b[K\r\n",
      "\u001b[34m  simulated_blocks:  11\u001b[39m\u001b[K\r\n",
      "\u001b[34m  rf_blocks:         11\u001b[39m\u001b[K\r\n",
      "\u001b[34m  acq_samples:       0\u001b[39m\u001b[K\r\u001b[A\r\u001b[A\r\u001b[A"
     ]
    },
    {
     "name": "stderr",
     "output_type": "stream",
     "text": [
      "\n",
      "\n",
      "\n",
      "\r\u001b[K\u001b[A\r\u001b[K\u001b[A\r\u001b[K\u001b[A\r\u001b[32mProgress:  71%|█████████████████████████████▎           |  ETA: 0:00:00\u001b[39m\u001b[K\r\n",
      "\u001b[34m  simulated_blocks:  15\u001b[39m\u001b[K\r\n",
      "\u001b[34m  rf_blocks:         15\u001b[39m\u001b[K\r\n",
      "\u001b[34m  acq_samples:       0\u001b[39m\u001b[K\r\u001b[A\r\u001b[A\r\u001b[A"
     ]
    },
    {
     "name": "stderr",
     "output_type": "stream",
     "text": [
      "\n",
      "\n",
      "\n",
      "\r\u001b[K\u001b[A\r\u001b[K\u001b[A\r\u001b[K\u001b[A\r\u001b[32mProgress:  90%|█████████████████████████████████████▏   |  ETA: 0:00:00\u001b[39m\u001b[K\r\n",
      "\u001b[34m  simulated_blocks:  19\u001b[39m\u001b[K\r\n",
      "\u001b[34m  rf_blocks:         19\u001b[39m\u001b[K\r\n",
      "\u001b[34m  acq_samples:       0\u001b[39m\u001b[K\r\u001b[A\r\u001b[A\r\u001b[A"
     ]
    },
    {
     "name": "stderr",
     "output_type": "stream",
     "text": [
      "\n",
      "\n",
      "\n",
      "\r\u001b[K\u001b[A\r\u001b[K\u001b[A\r\u001b[K\u001b[A\r\u001b[32mProgress: 100%|█████████████████████████████████████████| Time: 0:00:00\u001b[39m\u001b[K\r\n",
      "\u001b[34m  simulated_blocks:  21\u001b[39m\u001b[K\r\n",
      "\u001b[34m  rf_blocks:         20\u001b[39m\u001b[K\r\n",
      "\u001b[34m  acq_samples:       1\u001b[39m\u001b[K\n"
     ]
    },
    {
     "name": "stdout",
     "output_type": "stream",
     "text": [
      "  0.650856 seconds (2.07 M allocations: 99.115 MiB, 6.24% gc time)\n"
     ]
    },
    {
     "name": "stderr",
     "output_type": "stream",
     "text": [
      "┌ Info: Running simulation in the CPU with 1 thread(s)\n",
      "│   koma_version = 0.7.3\n",
      "│   sim_method = KomaMRI.Bloch()\n",
      "│   spins = 1\n",
      "│   time_points = 12674\n",
      "│   adc_points = 1\n",
      "└ @ KomaMRI /Users/amandanicotina/.julia/packages/KomaMRI/qZTLv/src/simulation/SimulatorCore.jl:219\n"
     ]
    },
    {
     "name": "stderr",
     "output_type": "stream",
     "text": [
      "\r\u001b[32mProgress:  14%|█████▉                                   |  ETA: 0:00:01\u001b[39m\u001b[K\r\n",
      "\u001b[34m  simulated_blocks:  3\u001b[39m\u001b[K\r\n",
      "\u001b[34m  rf_blocks:         3\u001b[39m\u001b[K\r\n",
      "\u001b[34m  acq_samples:       0\u001b[39m\u001b[K\r\u001b[A\r\u001b[A\r\u001b[A"
     ]
    },
    {
     "name": "stderr",
     "output_type": "stream",
     "text": [
      "\n",
      "\n",
      "\n",
      "\r\u001b[K\u001b[A\r\u001b[K\u001b[A\r\u001b[K\u001b[A\r\u001b[32mProgress:  29%|███████████▊                             |  ETA: 0:00:01\u001b[39m\u001b[K\r\n",
      "\u001b[34m  simulated_blocks:  6\u001b[39m\u001b[K\r\n",
      "\u001b[34m  rf_blocks:         6\u001b[39m\u001b[K\r\n",
      "\u001b[34m  acq_samples:       0\u001b[39m\u001b[K\r\u001b[A\r\u001b[A\r\u001b[A"
     ]
    },
    {
     "name": "stderr",
     "output_type": "stream",
     "text": [
      "\n",
      "\n",
      "\n",
      "\r\u001b[K\u001b[A\r\u001b[K\u001b[A\r\u001b[K\u001b[A\r\u001b[32mProgress:  43%|█████████████████▋                       |  ETA: 0:00:00\u001b[39m\u001b[K\r\n",
      "\u001b[34m  simulated_blocks:  9\u001b[39m\u001b[K\r\n",
      "\u001b[34m  rf_blocks:         9\u001b[39m\u001b[K\r\n",
      "\u001b[34m  acq_samples:       0\u001b[39m\u001b[K\r\u001b[A\r\u001b[A\r\u001b[A"
     ]
    },
    {
     "name": "stderr",
     "output_type": "stream",
     "text": [
      "\n",
      "\n",
      "\n",
      "\r\u001b[K\u001b[A\r\u001b[K\u001b[A\r\u001b[K\u001b[A\r\u001b[32mProgress:  57%|███████████████████████▍                 |  ETA: 0:00:00\u001b[39m\u001b[K\r\n",
      "\u001b[34m  simulated_blocks:  12\u001b[39m\u001b[K\r\n",
      "\u001b[34m  rf_blocks:         12\u001b[39m\u001b[K\r\n",
      "\u001b[34m  acq_samples:       0\u001b[39m\u001b[K\r\u001b[A\r\u001b[A\r\u001b[A"
     ]
    },
    {
     "name": "stderr",
     "output_type": "stream",
     "text": [
      "\n",
      "\n",
      "\n",
      "\r\u001b[K\u001b[A\r\u001b[K\u001b[A\r\u001b[K\u001b[A\r\u001b[32mProgress:  71%|█████████████████████████████▎           |  ETA: 0:00:00\u001b[39m\u001b[K\r\n",
      "\u001b[34m  simulated_blocks:  15\u001b[39m\u001b[K\r\n",
      "\u001b[34m  rf_blocks:         15\u001b[39m\u001b[K\r\n",
      "\u001b[34m  acq_samples:       0\u001b[39m\u001b[K\r\u001b[A\r\u001b[A\r\u001b[A"
     ]
    },
    {
     "name": "stderr",
     "output_type": "stream",
     "text": [
      "\n",
      "\n",
      "\n",
      "\r\u001b[K\u001b[A\r\u001b[K\u001b[A\r\u001b[K\u001b[A\r\u001b[32mProgress:  86%|███████████████████████████████████▏     |  ETA: 0:00:00\u001b[39m\u001b[K\r\n",
      "\u001b[34m  simulated_blocks:  18\u001b[39m\u001b[K\r\n",
      "\u001b[34m  rf_blocks:         18\u001b[39m\u001b[K\r\n",
      "\u001b[34m  acq_samples:       0\u001b[39m\u001b[K\r\u001b[A\r\u001b[A\r\u001b[A"
     ]
    },
    {
     "name": "stderr",
     "output_type": "stream",
     "text": [
      "\n",
      "\n",
      "\n",
      "\r\u001b[K\u001b[A\r\u001b[K\u001b[A\r\u001b[K\u001b[A\r\u001b[32mProgress: 100%|█████████████████████████████████████████| Time: 0:00:00\u001b[39m\u001b[K\r\n",
      "\u001b[34m  simulated_blocks:  21\u001b[39m\u001b[K\r\n",
      "\u001b[34m  rf_blocks:         20\u001b[39m\u001b[K\r\n",
      "\u001b[34m  acq_samples:       1\u001b[39m\u001b[K\n"
     ]
    },
    {
     "name": "stdout",
     "output_type": "stream",
     "text": [
      "  0.729042 seconds (2.54 M allocations: 119.732 MiB, 4.49% gc time)\n"
     ]
    },
    {
     "name": "stderr",
     "output_type": "stream",
     "text": [
      "┌ Info: Running simulation in the CPU with 1 thread(s)\n",
      "│   koma_version = 0.7.3\n",
      "│   sim_method = KomaMRI.Bloch()\n",
      "│   spins = 1\n",
      "│   time_points = 14785\n",
      "│   adc_points = 1\n",
      "└ @ KomaMRI /Users/amandanicotina/.julia/packages/KomaMRI/qZTLv/src/simulation/SimulatorCore.jl:219\n"
     ]
    },
    {
     "name": "stderr",
     "output_type": "stream",
     "text": [
      "\r\u001b[32mProgress:  14%|█████▉                                   |  ETA: 0:00:01\u001b[39m\u001b[K\r\n",
      "\u001b[34m  simulated_blocks:  3\u001b[39m\u001b[K\r\n",
      "\u001b[34m  rf_blocks:         3\u001b[39m\u001b[K\r\n",
      "\u001b[34m  acq_samples:       0\u001b[39m\u001b[K\r\u001b[A\r\u001b[A\r\u001b[A"
     ]
    },
    {
     "name": "stderr",
     "output_type": "stream",
     "text": [
      "\n",
      "\n",
      "\n",
      "\r\u001b[K\u001b[A\r\u001b[K\u001b[A\r\u001b[K\u001b[A\r\u001b[32mProgress:  29%|███████████▊                             |  ETA: 0:00:01\u001b[39m\u001b[K\r\n",
      "\u001b[34m  simulated_blocks:  6\u001b[39m\u001b[K\r\n",
      "\u001b[34m  rf_blocks:         6\u001b[39m\u001b[K\r\n",
      "\u001b[34m  acq_samples:       0\u001b[39m\u001b[K\r\u001b[A\r\u001b[A\r\u001b[A"
     ]
    },
    {
     "name": "stderr",
     "output_type": "stream",
     "text": [
      "\n",
      "\n",
      "\n",
      "\r\u001b[K\u001b[A\r\u001b[K\u001b[A\r\u001b[K\u001b[A\r\u001b[32mProgress:  43%|█████████████████▋                       |  ETA: 0:00:00\u001b[39m\u001b[K\r\n",
      "\u001b[34m  simulated_blocks:  9\u001b[39m\u001b[K\r\n",
      "\u001b[34m  rf_blocks:         9\u001b[39m\u001b[K\r\n",
      "\u001b[34m  acq_samples:       0\u001b[39m\u001b[K\r\u001b[A\r\u001b[A\r\u001b[A"
     ]
    },
    {
     "name": "stderr",
     "output_type": "stream",
     "text": [
      "\n",
      "\n",
      "\n",
      "\r\u001b[K\u001b[A\r\u001b[K\u001b[A\r\u001b[K\u001b[A\r\u001b[32mProgress:  57%|███████████████████████▍                 |  ETA: 0:00:00\u001b[39m\u001b[K\r\n",
      "\u001b[34m  simulated_blocks:  12\u001b[39m\u001b[K\r\n",
      "\u001b[34m  rf_blocks:         12\u001b[39m\u001b[K\r\n",
      "\u001b[34m  acq_samples:       0\u001b[39m\u001b[K\r\u001b[A\r\u001b[A\r\u001b[A"
     ]
    },
    {
     "name": "stderr",
     "output_type": "stream",
     "text": [
      "\n",
      "\n",
      "\n",
      "\r\u001b[K\u001b[A\r\u001b[K\u001b[A\r\u001b[K\u001b[A\r\u001b[32mProgress:  71%|█████████████████████████████▎           |  ETA: 0:00:00\u001b[39m\u001b[K\r\n",
      "\u001b[34m  simulated_blocks:  15\u001b[39m\u001b[K\r\n",
      "\u001b[34m  rf_blocks:         15\u001b[39m\u001b[K\r\n",
      "\u001b[34m  acq_samples:       0\u001b[39m\u001b[K\r\u001b[A\r\u001b[A\r\u001b[A"
     ]
    },
    {
     "name": "stderr",
     "output_type": "stream",
     "text": [
      "\n",
      "\n",
      "\n",
      "\r\u001b[K\u001b[A\r\u001b[K\u001b[A\r\u001b[K\u001b[A\r\u001b[32mProgress:  86%|███████████████████████████████████▏     |  ETA: 0:00:00\u001b[39m\u001b[K\r\n",
      "\u001b[34m  simulated_blocks:  18\u001b[39m\u001b[K\r\n",
      "\u001b[34m  rf_blocks:         18\u001b[39m\u001b[K\r\n",
      "\u001b[34m  acq_samples:       0\u001b[39m\u001b[K\r\u001b[A\r\u001b[A\r\u001b[A"
     ]
    },
    {
     "name": "stderr",
     "output_type": "stream",
     "text": [
      "\n",
      "\n",
      "\n",
      "\r\u001b[K\u001b[A\r\u001b[K\u001b[A\r\u001b[K\u001b[A\r\u001b[32mProgress: 100%|█████████████████████████████████████████| Time: 0:00:00\u001b[39m\u001b[K\r\n",
      "\u001b[34m  simulated_blocks:  21\u001b[39m\u001b[K\r\n",
      "\u001b[34m  rf_blocks:         20\u001b[39m\u001b[K\r\n",
      "\u001b[34m  acq_samples:       1\u001b[39m\u001b[K\n"
     ]
    },
    {
     "name": "stdout",
     "output_type": "stream",
     "text": [
      "  0.812183 seconds (3.01 M allocations: 140.324 MiB)\n"
     ]
    },
    {
     "name": "stderr",
     "output_type": "stream",
     "text": [
      "┌ Info: Running simulation in the CPU with 1 thread(s)\n",
      "│   koma_version = 0.7.3\n",
      "│   sim_method = KomaMRI.Bloch()\n",
      "│   spins = 1\n",
      "│   time_points = 16898\n",
      "│   adc_points = 1\n",
      "└ @ KomaMRI /Users/amandanicotina/.julia/packages/KomaMRI/qZTLv/src/simulation/SimulatorCore.jl:219\n"
     ]
    },
    {
     "name": "stderr",
     "output_type": "stream",
     "text": [
      "\r\u001b[32mProgress:  14%|█████▉                                   |  ETA: 0:00:01\u001b[39m\u001b[K\r\n",
      "\u001b[34m  simulated_blocks:  3\u001b[39m\u001b[K\r\n",
      "\u001b[34m  rf_blocks:         3\u001b[39m\u001b[K\r\n",
      "\u001b[34m  acq_samples:       0\u001b[39m\u001b[K\r\u001b[A\r\u001b[A\r\u001b[A"
     ]
    },
    {
     "name": "stderr",
     "output_type": "stream",
     "text": [
      "\n",
      "\n",
      "\n",
      "\r\u001b[K\u001b[A\r\u001b[K\u001b[A\r\u001b[K\u001b[A\r\u001b[32mProgress:  24%|█████████▊                               |  ETA: 0:00:01\u001b[39m\u001b[K\r\n",
      "\u001b[34m  simulated_blocks:  5\u001b[39m\u001b[K\r\n",
      "\u001b[34m  rf_blocks:         5\u001b[39m\u001b[K\r\n",
      "\u001b[34m  acq_samples:       0\u001b[39m\u001b[K\r\u001b[A\r\u001b[A\r\u001b[A"
     ]
    },
    {
     "name": "stderr",
     "output_type": "stream",
     "text": [
      "\n",
      "\n",
      "\n",
      "\r\u001b[K\u001b[A\r\u001b[K\u001b[A\r\u001b[K\u001b[A\r\u001b[32mProgress:  38%|███████████████▋                         |  ETA: 0:00:01\u001b[39m\u001b[K\r\n",
      "\u001b[34m  simulated_blocks:  8\u001b[39m\u001b[K\r\n",
      "\u001b[34m  rf_blocks:         8\u001b[39m\u001b[K\r\n",
      "\u001b[34m  acq_samples:       0\u001b[39m\u001b[K\r\u001b[A\r\u001b[A\r\u001b[A"
     ]
    },
    {
     "name": "stderr",
     "output_type": "stream",
     "text": [
      "\n",
      "\n",
      "\n",
      "\r\u001b[K\u001b[A\r\u001b[K\u001b[A\r\u001b[K\u001b[A\r\u001b[32mProgress:  52%|█████████████████████▌                   |  ETA: 0:00:00\u001b[39m\u001b[K\r\n",
      "\u001b[34m  simulated_blocks:  11\u001b[39m\u001b[K\r\n",
      "\u001b[34m  rf_blocks:         11\u001b[39m\u001b[K\r\n",
      "\u001b[34m  acq_samples:       0\u001b[39m\u001b[K\r\u001b[A\r\u001b[A\r\u001b[A"
     ]
    },
    {
     "name": "stderr",
     "output_type": "stream",
     "text": [
      "\n",
      "\n",
      "\n",
      "\r\u001b[K\u001b[A\r\u001b[K\u001b[A\r\u001b[K\u001b[A\r\u001b[32mProgress:  67%|███████████████████████████▍             |  ETA: 0:00:00\u001b[39m\u001b[K\r\n",
      "\u001b[34m  simulated_blocks:  14\u001b[39m\u001b[K\r\n",
      "\u001b[34m  rf_blocks:         14\u001b[39m\u001b[K\r\n",
      "\u001b[34m  acq_samples:       0\u001b[39m\u001b[K\r\u001b[A\r\u001b[A\r\u001b[A"
     ]
    },
    {
     "name": "stderr",
     "output_type": "stream",
     "text": [
      "\n",
      "\n",
      "\n",
      "\r\u001b[K\u001b[A\r\u001b[K\u001b[A\r\u001b[K\u001b[A\r\u001b[32mProgress:  81%|█████████████████████████████████▎       |  ETA: 0:00:00\u001b[39m\u001b[K\r\n",
      "\u001b[34m  simulated_blocks:  17\u001b[39m\u001b[K\r\n",
      "\u001b[34m  rf_blocks:         17\u001b[39m\u001b[K\r\n",
      "\u001b[34m  acq_samples:       0\u001b[39m\u001b[K\r\u001b[A\r\u001b[A\r\u001b[A"
     ]
    },
    {
     "name": "stderr",
     "output_type": "stream",
     "text": [
      "\n",
      "\n",
      "\n",
      "\r\u001b[K\u001b[A\r\u001b[K\u001b[A\r\u001b[K\u001b[A\r\u001b[32mProgress:  95%|███████████████████████████████████████  |  ETA: 0:00:00\u001b[39m\u001b[K\r\n",
      "\u001b[34m  simulated_blocks:  20\u001b[39m\u001b[K\r\n",
      "\u001b[34m  rf_blocks:         20\u001b[39m\u001b[K\r\n",
      "\u001b[34m  acq_samples:       0\u001b[39m\u001b[K\r\u001b[A\r\u001b[A\r\u001b[A"
     ]
    },
    {
     "name": "stderr",
     "output_type": "stream",
     "text": [
      "\n",
      "\n",
      "\n",
      "\r\u001b[K\u001b[A\r\u001b[K\u001b[A\r\u001b[K\u001b[A\r\u001b[32mProgress: 100%|█████████████████████████████████████████| Time: 0:00:00\u001b[39m\u001b[K\r\n",
      "\u001b[34m  simulated_blocks:  21\u001b[39m\u001b[K\r\n",
      "\u001b[34m  rf_blocks:         20\u001b[39m\u001b[K\r\n",
      "\u001b[34m  acq_samples:       1\u001b[39m\u001b[K\n"
     ]
    },
    {
     "name": "stdout",
     "output_type": "stream",
     "text": [
      "  0.955648 seconds (3.48 M allocations: 160.949 MiB, 2.81% gc time)\n"
     ]
    },
    {
     "name": "stderr",
     "output_type": "stream",
     "text": [
      "┌ Info: Running simulation in the CPU with 1 thread(s)\n",
      "│   koma_version = 0.7.3\n",
      "│   sim_method = KomaMRI.Bloch()\n",
      "│   spins = 1\n",
      "│   time_points = 19010\n",
      "│   adc_points = 1\n",
      "└ @ KomaMRI /Users/amandanicotina/.julia/packages/KomaMRI/qZTLv/src/simulation/SimulatorCore.jl:219\n"
     ]
    },
    {
     "name": "stderr",
     "output_type": "stream",
     "text": [
      "\r\u001b[32mProgress:  10%|███▉                                     |  ETA: 0:00:01\u001b[39m\u001b[K\r\n",
      "\u001b[34m  simulated_blocks:  2\u001b[39m\u001b[K\r\n",
      "\u001b[34m  rf_blocks:         2\u001b[39m\u001b[K\r\n",
      "\u001b[34m  acq_samples:       0\u001b[39m\u001b[K\r\u001b[A\r\u001b[A\r\u001b[A"
     ]
    },
    {
     "name": "stderr",
     "output_type": "stream",
     "text": [
      "\n",
      "\n",
      "\n",
      "\r\u001b[K\u001b[A\r\u001b[K\u001b[A\r\u001b[K\u001b[A\r\u001b[32mProgress:  19%|███████▊                                 |  ETA: 0:00:01\u001b[39m\u001b[K\r\n",
      "\u001b[34m  simulated_blocks:  4\u001b[39m\u001b[K\r\n",
      "\u001b[34m  rf_blocks:         4\u001b[39m\u001b[K\r\n",
      "\u001b[34m  acq_samples:       0\u001b[39m\u001b[K\r\u001b[A\r\u001b[A\r\u001b[A"
     ]
    },
    {
     "name": "stderr",
     "output_type": "stream",
     "text": [
      "\n",
      "\n",
      "\n",
      "\r\u001b[K\u001b[A\r\u001b[K\u001b[A\r\u001b[K\u001b[A\r\u001b[32mProgress:  29%|███████████▊                             |  ETA: 0:00:01\u001b[39m\u001b[K\r\n",
      "\u001b[34m  simulated_blocks:  6\u001b[39m\u001b[K\r\n",
      "\u001b[34m  rf_blocks:         6\u001b[39m\u001b[K\r\n",
      "\u001b[34m  acq_samples:       0\u001b[39m\u001b[K\r\u001b[A\r\u001b[A\r\u001b[A"
     ]
    },
    {
     "name": "stderr",
     "output_type": "stream",
     "text": [
      "\n",
      "\n",
      "\n",
      "\r\u001b[K\u001b[A\r\u001b[K\u001b[A\r\u001b[K\u001b[A\r\u001b[32mProgress:  38%|███████████████▋                         |  ETA: 0:00:01\u001b[39m\u001b[K\r\n",
      "\u001b[34m  simulated_blocks:  8\u001b[39m\u001b[K\r\n",
      "\u001b[34m  rf_blocks:         8\u001b[39m\u001b[K\r\n",
      "\u001b[34m  acq_samples:       0\u001b[39m\u001b[K\r\u001b[A\r\u001b[A\r\u001b[A"
     ]
    },
    {
     "name": "stderr",
     "output_type": "stream",
     "text": [
      "\n",
      "\n",
      "\n",
      "\r\u001b[K\u001b[A\r\u001b[K\u001b[A\r\u001b[K\u001b[A\r\u001b[32mProgress:  48%|███████████████████▌                     |  ETA: 0:00:01\u001b[39m\u001b[K\r\n",
      "\u001b[34m  simulated_blocks:  10\u001b[39m\u001b[K\r\n",
      "\u001b[34m  rf_blocks:         10\u001b[39m\u001b[K\r\n",
      "\u001b[34m  acq_samples:       0\u001b[39m\u001b[K\r\u001b[A\r\u001b[A\r\u001b[A"
     ]
    },
    {
     "name": "stderr",
     "output_type": "stream",
     "text": [
      "\n",
      "\n",
      "\n",
      "\r\u001b[K\u001b[A\r\u001b[K\u001b[A\r\u001b[K\u001b[A\r\u001b[32mProgress:  57%|███████████████████████▍                 |  ETA: 0:00:00\u001b[39m\u001b[K\r\n",
      "\u001b[34m  simulated_blocks:  12\u001b[39m\u001b[K\r\n",
      "\u001b[34m  rf_blocks:         12\u001b[39m\u001b[K\r\n",
      "\u001b[34m  acq_samples:       0\u001b[39m\u001b[K\r\u001b[A\r\u001b[A\r\u001b[A"
     ]
    },
    {
     "name": "stderr",
     "output_type": "stream",
     "text": [
      "\n",
      "\n",
      "\n",
      "\r\u001b[K\u001b[A\r\u001b[K\u001b[A\r\u001b[K\u001b[A\r\u001b[32mProgress:  67%|███████████████████████████▍             |  ETA: 0:00:00\u001b[39m\u001b[K\r\n",
      "\u001b[34m  simulated_blocks:  14\u001b[39m\u001b[K\r\n",
      "\u001b[34m  rf_blocks:         14\u001b[39m\u001b[K\r\n",
      "\u001b[34m  acq_samples:       0\u001b[39m\u001b[K\r\u001b[A\r\u001b[A\r\u001b[A"
     ]
    },
    {
     "name": "stderr",
     "output_type": "stream",
     "text": [
      "\n",
      "\n",
      "\n",
      "\r\u001b[K\u001b[A\r\u001b[K\u001b[A\r\u001b[K\u001b[A\r\u001b[32mProgress:  76%|███████████████████████████████▎         |  ETA: 0:00:00\u001b[39m\u001b[K\r\n",
      "\u001b[34m  simulated_blocks:  16\u001b[39m\u001b[K\r\n",
      "\u001b[34m  rf_blocks:         16\u001b[39m\u001b[K\r\n",
      "\u001b[34m  acq_samples:       0\u001b[39m\u001b[K\r\u001b[A\r\u001b[A\r\u001b[A"
     ]
    },
    {
     "name": "stderr",
     "output_type": "stream",
     "text": [
      "\n",
      "\n",
      "\n",
      "\r\u001b[K\u001b[A\r\u001b[K\u001b[A\r\u001b[K\u001b[A\r\u001b[32mProgress:  86%|███████████████████████████████████▏     |  ETA: 0:00:00\u001b[39m\u001b[K\r\n",
      "\u001b[34m  simulated_blocks:  18\u001b[39m\u001b[K\r\n",
      "\u001b[34m  rf_blocks:         18\u001b[39m\u001b[K\r\n",
      "\u001b[34m  acq_samples:       0\u001b[39m\u001b[K\r\u001b[A\r\u001b[A\r\u001b[A"
     ]
    },
    {
     "name": "stderr",
     "output_type": "stream",
     "text": [
      "\n",
      "\n",
      "\n",
      "\r\u001b[K\u001b[A\r\u001b[K\u001b[A\r\u001b[K\u001b[A\r\u001b[32mProgress:  95%|███████████████████████████████████████  |  ETA: 0:00:00\u001b[39m\u001b[K\r\n",
      "\u001b[34m  simulated_blocks:  20\u001b[39m\u001b[K\r\n",
      "\u001b[34m  rf_blocks:         20\u001b[39m\u001b[K\r\n",
      "\u001b[34m  acq_samples:       0\u001b[39m\u001b[K\r\u001b[A\r\u001b[A\r\u001b[A"
     ]
    },
    {
     "name": "stderr",
     "output_type": "stream",
     "text": [
      "\n",
      "\n",
      "\n",
      "\r\u001b[K\u001b[A\r\u001b[K\u001b[A\r\u001b[K\u001b[A\r\u001b[32mProgress: 100%|█████████████████████████████████████████| Time: 0:00:01\u001b[39m\u001b[K\r\n",
      "\u001b[34m  simulated_blocks:  21\u001b[39m\u001b[K\r\n",
      "\u001b[34m  rf_blocks:         20\u001b[39m\u001b[K\r\n",
      "\u001b[34m  acq_samples:       1\u001b[39m\u001b[K\n"
     ]
    },
    {
     "name": "stdout",
     "output_type": "stream",
     "text": [
      "  1.069418 seconds (3.95 M allocations: 181.593 MiB, 2.59% gc time)\n"
     ]
    },
    {
     "data": {
      "text/plain": [
       "([0.0, -7.945185416247114e-7, -4.542959004538716e-7, 4.070092472829856e-6, 9.953600965673104e-8, -2.0317829694249667e-5, 8.766131941229105e-6, 5.9752012020908296e-5, -0.00028658253722824156, -0.00018522364553064108], [1.0, 1.0, 1.0, 1.0, 1.0, 1.0, 1.0, 1.0000758171081543, 0.9998964667320251, 0.9999470114707947], [0.0; 0.1056; … ; 0.8448; 0.9504;;])"
      ]
     },
     "metadata": {},
     "output_type": "display_data"
    }
   ],
   "source": [
    "(Mykoma, Mzkoma, tkoma) = \n",
    "simulate_magnetization_dynamics(RF_T, t_sp, sys, obj, nADC, durADC)"
   ]
  },
  {
   "attachments": {},
   "cell_type": "markdown",
   "metadata": {},
   "source": [
    "#### Plots"
   ]
  },
  {
   "cell_type": "code",
   "execution_count": 20,
   "metadata": {},
   "outputs": [
    {
     "data": {
      "application/vnd.plotly.v1+json": {
       "data": [
        {
         "colorbar": {
          "len": 0.9525371828521435,
          "title": "",
          "x": 0.9934383202099737,
          "y": 0.513888888888889
         },
         "legendgroup": "OC Grape",
         "line": {
          "color": "rgba(0, 154, 250, 1.000)",
          "dash": "solid",
          "shape": "linear",
          "width": 1
         },
         "marker": {
          "color": "rgba(0, 154, 250, 1.000)",
          "line": {
           "color": "rgba(0, 0, 0, 1.000)",
           "width": 1
          },
          "size": 8,
          "symbol": "circle"
         },
         "mode": "lines+markers",
         "name": "OC Grape",
         "showlegend": true,
         "type": "scatter",
         "x": [
          0,
          0.10560000000000001,
          0.21120000000000003,
          0.3168,
          0.42240000000000005,
          0.528,
          0.6336,
          0.7392,
          0.8448000000000001,
          0.9504,
          1.056
         ],
         "xaxis": "x",
         "y": [
          1,
          0.9999964585200963,
          0.9999878146411442,
          0.9999782822605925,
          0.999808120882884,
          0.999906500101085,
          0.993771056787258,
          0.9973205716433121,
          0.28690166744617346,
          0.16085434326647235,
          0.7900076913059519
         ],
         "yaxis": "y"
        },
        {
         "colorbar": {
          "len": 0.9525371828521435,
          "title": "",
          "x": 0.9934383202099737,
          "y": 0.513888888888889
         },
         "legendgroup": "KomaMRI",
         "line": {
          "color": "rgba(227, 111, 71, 1.000)",
          "dash": "solid",
          "shape": "linear",
          "width": 1
         },
         "marker": {
          "color": "rgba(227, 111, 71, 1.000)",
          "line": {
           "color": "rgba(0, 0, 0, 1.000)",
           "width": 1
          },
          "size": 8,
          "symbol": "circle"
         },
         "mode": "lines+markers",
         "name": "KomaMRI",
         "showlegend": true,
         "type": "scatter",
         "x": [
          0,
          0.1056,
          0.2112,
          0.31679999999999997,
          0.4224,
          0.528,
          0.6335999999999999,
          0.7392,
          0.8448,
          0.9504
         ],
         "xaxis": "x",
         "y": [
          1,
          1,
          1,
          1,
          1,
          1,
          1,
          1.0000758171081543,
          0.9998964667320251,
          0.9999470114707947
         ],
         "yaxis": "y"
        }
       ],
       "layout": {
        "annotations": [],
        "height": 400,
        "legend": {
         "bgcolor": "rgba(255, 255, 255, 1.000)",
         "bordercolor": "rgba(0, 0, 0, 1.000)",
         "borderwidth": 1,
         "font": {
          "color": "rgba(0, 0, 0, 1.000)",
          "family": "sans-serif",
          "size": 11
         },
         "title": {
          "font": {
           "color": "rgba(0, 0, 0, 1.000)",
           "family": "sans-serif",
           "size": 15
          },
          "text": ""
         },
         "tracegroupgap": 0,
         "traceorder": "normal",
         "x": 1,
         "xanchor": "auto",
         "y": 1,
         "yanchor": "auto"
        },
        "margin": {
         "b": 20,
         "l": 0,
         "r": 0,
         "t": 20
        },
        "paper_bgcolor": "rgba(255, 255, 255, 1.000)",
        "plot_bgcolor": "rgba(255, 255, 255, 1.000)",
        "showlegend": true,
        "width": 600,
        "xaxis": {
         "anchor": "y",
         "domain": [
          0.05100612423447069,
          0.9934383202099737
         ],
         "gridcolor": "rgba(0, 0, 0, 0.100)",
         "gridwidth": 0.5,
         "linecolor": "rgba(0, 0, 0, 1.000)",
         "mirror": false,
         "range": [
          -0.03168000000000004,
          1.0876800000000002
         ],
         "showgrid": true,
         "showline": true,
         "showticklabels": true,
         "tickangle": 0,
         "tickcolor": "rgb(0, 0, 0)",
         "tickfont": {
          "color": "rgba(0, 0, 0, 1.000)",
          "family": "sans-serif",
          "size": 11
         },
         "tickmode": "array",
         "ticks": "inside",
         "ticktext": [
          "0.00",
          "0.25",
          "0.50",
          "0.75",
          "1.00"
         ],
         "tickvals": [
          0,
          0.25,
          0.5,
          0.75,
          1
         ],
         "title": "",
         "titlefont": {
          "color": "rgba(0, 0, 0, 1.000)",
          "family": "sans-serif",
          "size": 15
         },
         "type": "-",
         "visible": true,
         "zeroline": false,
         "zerolinecolor": "rgba(0, 0, 0, 1.000)"
        },
        "yaxis": {
         "anchor": "x",
         "domain": [
          0.03762029746281716,
          0.9901574803149606
         ],
         "gridcolor": "rgba(0, 0, 0, 0.100)",
         "gridwidth": 0.5,
         "linecolor": "rgba(0, 0, 0, 1.000)",
         "mirror": false,
         "range": [
          0.13567769905122196,
          1.0252524613234049
         ],
         "showgrid": true,
         "showline": true,
         "showticklabels": true,
         "tickangle": 0,
         "tickcolor": "rgb(0, 0, 0)",
         "tickfont": {
          "color": "rgba(0, 0, 0, 1.000)",
          "family": "sans-serif",
          "size": 11
         },
         "tickmode": "array",
         "ticks": "inside",
         "ticktext": [
          "0.2",
          "0.4",
          "0.6",
          "0.8",
          "1.0"
         ],
         "tickvals": [
          0.2,
          0.4,
          0.6000000000000001,
          0.8,
          1
         ],
         "title": "",
         "titlefont": {
          "color": "rgba(0, 0, 0, 1.000)",
          "family": "sans-serif",
          "size": 15
         },
         "type": "-",
         "visible": true,
         "zeroline": false,
         "zerolinecolor": "rgba(0, 0, 0, 1.000)"
        }
       }
      },
      "text/html": [
       "<script src=\"https://cdn.plot.ly/plotly-2.6.3.min.js\"></script>    <div id=\"ce7f6f26-6c6f-4148-a354-d0803ab7c6ff\" style=\"width:600px;height:400px;\"></div>\n",
       "    <script>\n",
       "    \n",
       "    Plotly.newPlot('ce7f6f26-6c6f-4148-a354-d0803ab7c6ff', [\n",
       "    {\n",
       "        \"xaxis\": \"x\",\n",
       "        \"colorbar\": {\n",
       "            \"y\": 0.513888888888889,\n",
       "            \"title\": \"\",\n",
       "            \"len\": 0.9525371828521435,\n",
       "            \"x\": 0.9934383202099737\n",
       "        },\n",
       "        \"yaxis\": \"y\",\n",
       "        \"x\": [\n",
       "            0.0,\n",
       "            0.10560000000000001,\n",
       "            0.21120000000000003,\n",
       "            0.3168,\n",
       "            0.42240000000000005,\n",
       "            0.528,\n",
       "            0.6336,\n",
       "            0.7392,\n",
       "            0.8448000000000001,\n",
       "            0.9504,\n",
       "            1.056\n",
       "        ],\n",
       "        \"showlegend\": true,\n",
       "        \"mode\": \"lines+markers\",\n",
       "        \"name\": \"OC Grape\",\n",
       "        \"legendgroup\": \"OC Grape\",\n",
       "        \"marker\": {\n",
       "            \"symbol\": \"circle\",\n",
       "            \"color\": \"rgba(0, 154, 250, 1.000)\",\n",
       "            \"line\": {\n",
       "                \"color\": \"rgba(0, 0, 0, 1.000)\",\n",
       "                \"width\": 1\n",
       "            },\n",
       "            \"size\": 8\n",
       "        },\n",
       "        \"line\": {\n",
       "            \"color\": \"rgba(0, 154, 250, 1.000)\",\n",
       "            \"shape\": \"linear\",\n",
       "            \"dash\": \"solid\",\n",
       "            \"width\": 1\n",
       "        },\n",
       "        \"y\": [\n",
       "            1.0,\n",
       "            0.9999964585200963,\n",
       "            0.9999878146411442,\n",
       "            0.9999782822605925,\n",
       "            0.999808120882884,\n",
       "            0.999906500101085,\n",
       "            0.993771056787258,\n",
       "            0.9973205716433121,\n",
       "            0.28690166744617346,\n",
       "            0.16085434326647235,\n",
       "            0.7900076913059519\n",
       "        ],\n",
       "        \"type\": \"scatter\"\n",
       "    },\n",
       "    {\n",
       "        \"xaxis\": \"x\",\n",
       "        \"colorbar\": {\n",
       "            \"y\": 0.513888888888889,\n",
       "            \"title\": \"\",\n",
       "            \"len\": 0.9525371828521435,\n",
       "            \"x\": 0.9934383202099737\n",
       "        },\n",
       "        \"yaxis\": \"y\",\n",
       "        \"x\": [\n",
       "            0.0,\n",
       "            0.1056,\n",
       "            0.2112,\n",
       "            0.31679999999999997,\n",
       "            0.4224,\n",
       "            0.528,\n",
       "            0.6335999999999999,\n",
       "            0.7392,\n",
       "            0.8448,\n",
       "            0.9504\n",
       "        ],\n",
       "        \"showlegend\": true,\n",
       "        \"mode\": \"lines+markers\",\n",
       "        \"name\": \"KomaMRI\",\n",
       "        \"legendgroup\": \"KomaMRI\",\n",
       "        \"marker\": {\n",
       "            \"symbol\": \"circle\",\n",
       "            \"color\": \"rgba(227, 111, 71, 1.000)\",\n",
       "            \"line\": {\n",
       "                \"color\": \"rgba(0, 0, 0, 1.000)\",\n",
       "                \"width\": 1\n",
       "            },\n",
       "            \"size\": 8\n",
       "        },\n",
       "        \"line\": {\n",
       "            \"color\": \"rgba(227, 111, 71, 1.000)\",\n",
       "            \"shape\": \"linear\",\n",
       "            \"dash\": \"solid\",\n",
       "            \"width\": 1\n",
       "        },\n",
       "        \"y\": [\n",
       "            1.0,\n",
       "            1.0,\n",
       "            1.0,\n",
       "            1.0,\n",
       "            1.0,\n",
       "            1.0,\n",
       "            1.0,\n",
       "            1.0000758171081543,\n",
       "            0.9998964667320251,\n",
       "            0.9999470114707947\n",
       "        ],\n",
       "        \"type\": \"scatter\"\n",
       "    }\n",
       "]\n",
       ", {\n",
       "    \"showlegend\": true,\n",
       "    \"xaxis\": {\n",
       "        \"showticklabels\": true,\n",
       "        \"gridwidth\": 0.5,\n",
       "        \"tickvals\": [\n",
       "            0.0,\n",
       "            0.25,\n",
       "            0.5,\n",
       "            0.75,\n",
       "            1.0\n",
       "        ],\n",
       "        \"range\": [\n",
       "            -0.03168000000000004,\n",
       "            1.0876800000000002\n",
       "        ],\n",
       "        \"domain\": [\n",
       "            0.05100612423447069,\n",
       "            0.9934383202099737\n",
       "        ],\n",
       "        \"mirror\": false,\n",
       "        \"tickangle\": 0,\n",
       "        \"showline\": true,\n",
       "        \"ticktext\": [\n",
       "            \"0.00\",\n",
       "            \"0.25\",\n",
       "            \"0.50\",\n",
       "            \"0.75\",\n",
       "            \"1.00\"\n",
       "        ],\n",
       "        \"zeroline\": false,\n",
       "        \"tickfont\": {\n",
       "            \"color\": \"rgba(0, 0, 0, 1.000)\",\n",
       "            \"family\": \"sans-serif\",\n",
       "            \"size\": 11\n",
       "        },\n",
       "        \"zerolinecolor\": \"rgba(0, 0, 0, 1.000)\",\n",
       "        \"anchor\": \"y\",\n",
       "        \"visible\": true,\n",
       "        \"ticks\": \"inside\",\n",
       "        \"tickmode\": \"array\",\n",
       "        \"linecolor\": \"rgba(0, 0, 0, 1.000)\",\n",
       "        \"showgrid\": true,\n",
       "        \"title\": \"\",\n",
       "        \"gridcolor\": \"rgba(0, 0, 0, 0.100)\",\n",
       "        \"titlefont\": {\n",
       "            \"color\": \"rgba(0, 0, 0, 1.000)\",\n",
       "            \"family\": \"sans-serif\",\n",
       "            \"size\": 15\n",
       "        },\n",
       "        \"tickcolor\": \"rgb(0, 0, 0)\",\n",
       "        \"type\": \"-\"\n",
       "    },\n",
       "    \"paper_bgcolor\": \"rgba(255, 255, 255, 1.000)\",\n",
       "    \"annotations\": [],\n",
       "    \"height\": 400,\n",
       "    \"margin\": {\n",
       "        \"l\": 0,\n",
       "        \"b\": 20,\n",
       "        \"r\": 0,\n",
       "        \"t\": 20\n",
       "    },\n",
       "    \"plot_bgcolor\": \"rgba(255, 255, 255, 1.000)\",\n",
       "    \"yaxis\": {\n",
       "        \"showticklabels\": true,\n",
       "        \"gridwidth\": 0.5,\n",
       "        \"tickvals\": [\n",
       "            0.2,\n",
       "            0.4,\n",
       "            0.6000000000000001,\n",
       "            0.8,\n",
       "            1.0\n",
       "        ],\n",
       "        \"range\": [\n",
       "            0.13567769905122196,\n",
       "            1.0252524613234049\n",
       "        ],\n",
       "        \"domain\": [\n",
       "            0.03762029746281716,\n",
       "            0.9901574803149606\n",
       "        ],\n",
       "        \"mirror\": false,\n",
       "        \"tickangle\": 0,\n",
       "        \"showline\": true,\n",
       "        \"ticktext\": [\n",
       "            \"0.2\",\n",
       "            \"0.4\",\n",
       "            \"0.6\",\n",
       "            \"0.8\",\n",
       "            \"1.0\"\n",
       "        ],\n",
       "        \"zeroline\": false,\n",
       "        \"tickfont\": {\n",
       "            \"color\": \"rgba(0, 0, 0, 1.000)\",\n",
       "            \"family\": \"sans-serif\",\n",
       "            \"size\": 11\n",
       "        },\n",
       "        \"zerolinecolor\": \"rgba(0, 0, 0, 1.000)\",\n",
       "        \"anchor\": \"x\",\n",
       "        \"visible\": true,\n",
       "        \"ticks\": \"inside\",\n",
       "        \"tickmode\": \"array\",\n",
       "        \"linecolor\": \"rgba(0, 0, 0, 1.000)\",\n",
       "        \"showgrid\": true,\n",
       "        \"title\": \"\",\n",
       "        \"gridcolor\": \"rgba(0, 0, 0, 0.100)\",\n",
       "        \"titlefont\": {\n",
       "            \"color\": \"rgba(0, 0, 0, 1.000)\",\n",
       "            \"family\": \"sans-serif\",\n",
       "            \"size\": 15\n",
       "        },\n",
       "        \"tickcolor\": \"rgb(0, 0, 0)\",\n",
       "        \"type\": \"-\"\n",
       "    },\n",
       "    \"legend\": {\n",
       "        \"yanchor\": \"auto\",\n",
       "        \"xanchor\": \"auto\",\n",
       "        \"bordercolor\": \"rgba(0, 0, 0, 1.000)\",\n",
       "        \"bgcolor\": \"rgba(255, 255, 255, 1.000)\",\n",
       "        \"borderwidth\": 1,\n",
       "        \"tracegroupgap\": 0,\n",
       "        \"y\": 1.0,\n",
       "        \"font\": {\n",
       "            \"color\": \"rgba(0, 0, 0, 1.000)\",\n",
       "            \"family\": \"sans-serif\",\n",
       "            \"size\": 11\n",
       "        },\n",
       "        \"title\": {\n",
       "            \"font\": {\n",
       "                \"color\": \"rgba(0, 0, 0, 1.000)\",\n",
       "                \"family\": \"sans-serif\",\n",
       "                \"size\": 15\n",
       "            },\n",
       "            \"text\": \"\"\n",
       "        },\n",
       "        \"traceorder\": \"normal\",\n",
       "        \"x\": 1.0\n",
       "    },\n",
       "    \"width\": 600\n",
       "}\n",
       ");\n",
       "    \n",
       "    </script>\n"
      ]
     },
     "metadata": {},
     "output_type": "display_data"
    }
   ],
   "source": [
    "t_evol = LinRange(0.0, tf_sp, Int(length(RF_T)+1))\n",
    "plot_results(t_evol, Mmax, tkoma, Mzkoma)\n"
   ]
  }
 ],
 "metadata": {
  "kernelspec": {
   "display_name": "Julia 1.8.5",
   "language": "julia",
   "name": "julia-1.8"
  },
  "language_info": {
   "file_extension": ".jl",
   "mimetype": "application/julia",
   "name": "julia",
   "version": "1.8.5"
  },
  "orig_nbformat": 4
 },
 "nbformat": 4,
 "nbformat_minor": 2
}
